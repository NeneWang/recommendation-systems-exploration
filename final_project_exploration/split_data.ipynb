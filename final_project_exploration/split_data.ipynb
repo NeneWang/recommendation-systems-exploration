{
 "cells": [
  {
   "cell_type": "code",
   "execution_count": 1,
   "metadata": {},
   "outputs": [],
   "source": [
    "import pandas as pd\n",
    "import numpy as np\n",
    "import matplotlib.pyplot as plt\n",
    "import seaborn as sns\n",
    "\n"
   ]
  },
  {
   "cell_type": "markdown",
   "metadata": {},
   "source": []
  },
  {
   "cell_type": "code",
   "execution_count": 2,
   "metadata": {},
   "outputs": [],
   "source": [
    "recommendations_df = pd.read_csv('data/recommendations.csv')\n",
    "games_df = pd.read_csv('data/games.csv')\n",
    "users_df = pd.read_csv('data/users.csv')"
   ]
  },
  {
   "cell_type": "code",
   "execution_count": 3,
   "metadata": {},
   "outputs": [],
   "source": [
    "# It turns out it is way too large: I will strategically split into mutliple smaller dataframes limit by 10 000 rows\n",
    "def split_df_save(df, prefix, rows_thousand=1000):\n",
    "    for i in range(0, len(df), 1000*rows_thousand):\n",
    "        df.iloc[i:i+1000*rows_thousand].to_csv(f'data/split/{prefix}_{i//1000*rows_thousand}.csv', index=False)\n",
    "        break # Just care about the first one for now"
   ]
  },
  {
   "cell_type": "code",
   "execution_count": 4,
   "metadata": {},
   "outputs": [
    {
     "name": "stdout",
     "output_type": "stream",
     "text": [
      "50872\n",
      "14306064\n",
      "41154794\n"
     ]
    }
   ],
   "source": [
    "print(len(games_df))\n",
    "print(len(users_df))\n",
    "print(len(recommendations_df))"
   ]
  },
  {
   "cell_type": "code",
   "execution_count": 9,
   "metadata": {},
   "outputs": [],
   "source": [
    "split_df_save(users_df, 'users', rows_thousand=10000)\n",
    "split_df_save(games_df, 'games', rows_thousand=10000)\n",
    "split_df_save(recommendations_df, 'recommendations', rows_thousand=9000)"
   ]
  },
  {
   "cell_type": "code",
   "execution_count": null,
   "metadata": {},
   "outputs": [],
   "source": []
  },
  {
   "cell_type": "code",
   "execution_count": 10,
   "metadata": {},
   "outputs": [
    {
     "data": {
      "text/plain": [
       "'\\ngames.csv\\n\\n| Feature        | Variable Type | Description                 | Example            | Category   |\\n| -------------- | ------------- | --------------------------- | ------------------ | ---------- |\\n| app_id         | int           | Unique identifier of a game | 113020             | Identifier |\\n| title          | string        | Title of a game             | Escape Dead Island | Identifier |\\n| date_release   | date          | Release date of a game      | 2014-11-21         | Continuous |\\n| win            | bool          | Windows OS support          | True               | Category   |\\n| mac            | bool          | Mac OS support              | False              | Category   |\\n| linux          | bool          | Linux OS support            | False              | Category   |\\n| rating         | float         | Average rating of a game    | 3.0                | Continuous |\\n| positive ratio | float         | Ratio of positive reviews   | 0.5                | Continuous |\\n| user_reviews   | int           | Number of user reviews      | 0                  | Continuous |\\n\\n\\nrecommendations.csv\\n\\n| feature        | Variable Type | Description                      | Example    | Category   |\\n| -------------- | ------------- | -------------------------------- | ---------- | ---------- |\\n| app_id         | int           | Unique identifier of a game      | 113020     | Identifier |\\n| helpful        | int           | Number of helpful reviews        | 0          | Continuous |\\n| funny          | int           | Number of funny reviews          | 0          | Continuous |\\n| date           | date          | Date of a review                 | 2014-11-21 | Continuous |\\n| is_recommended | bool          | Whether a user recommends a game | True       | Category   |\\n| hours          | float         | Number of hours played           | 0.0        | Continuous |\\n| user_id        | int           | Unique identifier of a user      | 5250       | Identifier |\\n| review_id      | int           | Unique identifier of a review    | 1          | Identifier |\\n\\nusers.csv\\n\\n| Feature  | Variable Type | Description                 | Example | Category   |\\n| -------- | ------------- | --------------------------- | ------- | ---------- |\\n| user_id  | int           | Unique identifier of a user | 5250    | Identifier |\\n| products | int           | Count of purchased products | 1       | Continuous |\\n| reviews  | int           | Count of published reviews  | 0       | Continuous |\\n'"
      ]
     },
     "execution_count": 10,
     "metadata": {},
     "output_type": "execute_result"
    }
   ],
   "source": [
    "# Find if there is a correlation between the number of reviews and the number of products purchased by a user.\n",
    "\"\"\"\n",
    "games.csv\n",
    "\n",
    "| Feature        | Variable Type | Description                 | Example            | Category   |\n",
    "| -------------- | ------------- | --------------------------- | ------------------ | ---------- |\n",
    "| app_id         | int           | Unique identifier of a game | 113020             | Identifier |\n",
    "| title          | string        | Title of a game             | Escape Dead Island | Identifier |\n",
    "| date_release   | date          | Release date of a game      | 2014-11-21         | Continuous |\n",
    "| win            | bool          | Windows OS support          | True               | Category   |\n",
    "| mac            | bool          | Mac OS support              | False              | Category   |\n",
    "| linux          | bool          | Linux OS support            | False              | Category   |\n",
    "| rating         | float         | Average rating of a game    | 3.0                | Continuous |\n",
    "| positive ratio | float         | Ratio of positive reviews   | 0.5                | Continuous |\n",
    "| user_reviews   | int           | Number of user reviews      | 0                  | Continuous |\n",
    "\n",
    "\n",
    "recommendations.csv\n",
    "\n",
    "| feature        | Variable Type | Description                      | Example    | Category   |\n",
    "| -------------- | ------------- | -------------------------------- | ---------- | ---------- |\n",
    "| app_id         | int           | Unique identifier of a game      | 113020     | Identifier |\n",
    "| helpful        | int           | Number of helpful reviews        | 0          | Continuous |\n",
    "| funny          | int           | Number of funny reviews          | 0          | Continuous |\n",
    "| date           | date          | Date of a review                 | 2014-11-21 | Continuous |\n",
    "| is_recommended | bool          | Whether a user recommends a game | True       | Category   |\n",
    "| hours          | float         | Number of hours played           | 0.0        | Continuous |\n",
    "| user_id        | int           | Unique identifier of a user      | 5250       | Identifier |\n",
    "| review_id      | int           | Unique identifier of a review    | 1          | Identifier |\n",
    "\n",
    "users.csv\n",
    "\n",
    "| Feature  | Variable Type | Description                 | Example | Category   |\n",
    "| -------- | ------------- | --------------------------- | ------- | ---------- |\n",
    "| user_id  | int           | Unique identifier of a user | 5250    | Identifier |\n",
    "| products | int           | Count of purchased products | 1       | Continuous |\n",
    "| reviews  | int           | Count of published reviews  | 0       | Continuous |\n",
    "\"\"\"\n"
   ]
  },
  {
   "cell_type": "code",
   "execution_count": 11,
   "metadata": {},
   "outputs": [],
   "source": [
    "\n",
    "recommendations_df = pd.read_csv('data/split/recommendations_0.csv')\n",
    "games_df = pd.read_csv('data/split/games_0.csv')\n",
    "users_df = pd.read_csv('data/split/users_0.csv')"
   ]
  },
  {
   "cell_type": "code",
   "execution_count": 12,
   "metadata": {},
   "outputs": [
    {
     "name": "stdout",
     "output_type": "stream",
     "text": [
      "4860086 2494 9000000\n"
     ]
    }
   ],
   "source": [
    "# Ensure integrity by joining removing all games and users that were not in the transactions\n",
    "\n",
    "# get unique users from recommendations\n",
    "unique_users = recommendations_df['user_id'].unique()\n",
    "unique_games = recommendations_df['app_id'].unique()\n",
    "\n",
    "\n",
    "# Remove all users and games that are not in the recommendations\n",
    "users_df = users_df[users_df['user_id'].isin(unique_users)]\n",
    "games_df = games_df[games_df['app_id'].isin(unique_games)]\n",
    "\n",
    "available_users = users_df['user_id'].unique()\n",
    "available_games = games_df['app_id'].unique()\n",
    "# Remove from transactions where user or game is not available\n",
    "recommendations_df = recommendations_df[recommendations_df['user_id'].isin(available_users)]\n",
    "recommendations_df = recommendations_df[recommendations_df['app_id'].isin(available_games)]\n",
    "\n",
    "print(len(users_df), len(games_df), len(recommendations_df))\n",
    "\n",
    "# Save to /downsized\n",
    "users_df.to_csv('data/downsized/users.csv', index=False)\n",
    "games_df.to_csv('data/downsized/games.csv', index=False)\n",
    "recommendations_df.to_csv('data/downsized/recommendations.csv', index=False)\n"
   ]
  },
  {
   "cell_type": "code",
   "execution_count": null,
   "metadata": {},
   "outputs": [],
   "source": []
  },
  {
   "cell_type": "code",
   "execution_count": null,
   "metadata": {},
   "outputs": [],
   "source": []
  },
  {
   "cell_type": "code",
   "execution_count": null,
   "metadata": {},
   "outputs": [],
   "source": []
  }
 ],
 "metadata": {
  "kernelspec": {
   "display_name": ".venv",
   "language": "python",
   "name": "python3"
  },
  "language_info": {
   "codemirror_mode": {
    "name": "ipython",
    "version": 3
   },
   "file_extension": ".py",
   "mimetype": "text/x-python",
   "name": "python",
   "nbconvert_exporter": "python",
   "pygments_lexer": "ipython3",
   "version": "3.10.5"
  }
 },
 "nbformat": 4,
 "nbformat_minor": 2
}
