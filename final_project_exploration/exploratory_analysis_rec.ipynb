{
 "cells": [
  {
   "cell_type": "code",
   "execution_count": 10,
   "metadata": {},
   "outputs": [],
   "source": [
    "import pandas as pd\n",
    "import numpy as np\n",
    "import matplotlib.pyplot as plt\n",
    "import seaborn as sns\n",
    "from scipy.stats import pearsonr\n",
    "\n",
    "# I splitted the data to 5 million rows for users and games and 2000 rows of reocmmendations\n"
   ]
  },
  {
   "cell_type": "code",
   "execution_count": 11,
   "metadata": {},
   "outputs": [],
   "source": [
    "\n",
    "recommendations_df = pd.read_csv('data/downsized/recommendations.csv')\n",
    "games_df = pd.read_csv('data/downsized/games.csv')\n",
    "users_df = pd.read_csv('data/downsized/users.csv')"
   ]
  },
  {
   "cell_type": "markdown",
   "metadata": {},
   "source": [
    "## Explore Recommendations"
   ]
  },
  {
   "cell_type": "code",
   "execution_count": 27,
   "metadata": {},
   "outputs": [
    {
     "data": {
      "text/html": [
       "<div>\n",
       "<style scoped>\n",
       "    .dataframe tbody tr th:only-of-type {\n",
       "        vertical-align: middle;\n",
       "    }\n",
       "\n",
       "    .dataframe tbody tr th {\n",
       "        vertical-align: top;\n",
       "    }\n",
       "\n",
       "    .dataframe thead th {\n",
       "        text-align: right;\n",
       "    }\n",
       "</style>\n",
       "<table border=\"1\" class=\"dataframe\">\n",
       "  <thead>\n",
       "    <tr style=\"text-align: right;\">\n",
       "      <th></th>\n",
       "      <th>app_id</th>\n",
       "      <th>helpful</th>\n",
       "      <th>funny</th>\n",
       "      <th>date</th>\n",
       "      <th>is_recommended</th>\n",
       "      <th>hours</th>\n",
       "      <th>user_id</th>\n",
       "      <th>review_id</th>\n",
       "    </tr>\n",
       "  </thead>\n",
       "  <tbody>\n",
       "    <tr>\n",
       "      <th>0</th>\n",
       "      <td>304390</td>\n",
       "      <td>4</td>\n",
       "      <td>0</td>\n",
       "      <td>2017-02-17</td>\n",
       "      <td>False</td>\n",
       "      <td>11.5</td>\n",
       "      <td>2586</td>\n",
       "      <td>1</td>\n",
       "    </tr>\n",
       "    <tr>\n",
       "      <th>1</th>\n",
       "      <td>703080</td>\n",
       "      <td>0</td>\n",
       "      <td>0</td>\n",
       "      <td>2022-09-23</td>\n",
       "      <td>True</td>\n",
       "      <td>27.4</td>\n",
       "      <td>259432</td>\n",
       "      <td>3</td>\n",
       "    </tr>\n",
       "    <tr>\n",
       "      <th>2</th>\n",
       "      <td>526870</td>\n",
       "      <td>0</td>\n",
       "      <td>0</td>\n",
       "      <td>2021-01-10</td>\n",
       "      <td>True</td>\n",
       "      <td>7.9</td>\n",
       "      <td>23869</td>\n",
       "      <td>4</td>\n",
       "    </tr>\n",
       "    <tr>\n",
       "      <th>3</th>\n",
       "      <td>306130</td>\n",
       "      <td>0</td>\n",
       "      <td>0</td>\n",
       "      <td>2021-10-10</td>\n",
       "      <td>True</td>\n",
       "      <td>8.6</td>\n",
       "      <td>45425</td>\n",
       "      <td>5</td>\n",
       "    </tr>\n",
       "    <tr>\n",
       "      <th>4</th>\n",
       "      <td>730</td>\n",
       "      <td>0</td>\n",
       "      <td>0</td>\n",
       "      <td>2021-11-30</td>\n",
       "      <td>False</td>\n",
       "      <td>157.5</td>\n",
       "      <td>63209</td>\n",
       "      <td>7</td>\n",
       "    </tr>\n",
       "  </tbody>\n",
       "</table>\n",
       "</div>"
      ],
      "text/plain": [
       "   app_id  helpful  funny        date  is_recommended  hours  user_id  \\\n",
       "0  304390        4      0  2017-02-17           False   11.5     2586   \n",
       "1  703080        0      0  2022-09-23            True   27.4   259432   \n",
       "2  526870        0      0  2021-01-10            True    7.9    23869   \n",
       "3  306130        0      0  2021-10-10            True    8.6    45425   \n",
       "4     730        0      0  2021-11-30           False  157.5    63209   \n",
       "\n",
       "   review_id  \n",
       "0          1  \n",
       "1          3  \n",
       "2          4  \n",
       "3          5  \n",
       "4          7  "
      ]
     },
     "execution_count": 27,
     "metadata": {},
     "output_type": "execute_result"
    }
   ],
   "source": [
    "recommendations_df.head()"
   ]
  },
  {
   "cell_type": "code",
   "execution_count": 28,
   "metadata": {},
   "outputs": [
    {
     "data": {
      "text/plain": [
       "Index(['app_id', 'helpful', 'funny', 'date', 'is_recommended', 'hours',\n",
       "       'user_id', 'review_id'],\n",
       "      dtype='object')"
      ]
     },
     "execution_count": 28,
     "metadata": {},
     "output_type": "execute_result"
    }
   ],
   "source": [
    "recommendations_df.columns"
   ]
  },
  {
   "cell_type": "code",
   "execution_count": 29,
   "metadata": {},
   "outputs": [
    {
     "name": "stdout",
     "output_type": "stream",
     "text": [
      "<class 'pandas.core.frame.DataFrame'>\n",
      "RangeIndex: 9000000 entries, 0 to 8999999\n",
      "Data columns (total 8 columns):\n",
      " #   Column          Dtype  \n",
      "---  ------          -----  \n",
      " 0   app_id          int64  \n",
      " 1   helpful         int64  \n",
      " 2   funny           int64  \n",
      " 3   date            object \n",
      " 4   is_recommended  bool   \n",
      " 5   hours           float64\n",
      " 6   user_id         int64  \n",
      " 7   review_id       int64  \n",
      "dtypes: bool(1), float64(1), int64(5), object(1)\n",
      "memory usage: 489.2+ MB\n"
     ]
    }
   ],
   "source": [
    "recommendations_df.info()"
   ]
  },
  {
   "cell_type": "code",
   "execution_count": 80,
   "metadata": {},
   "outputs": [
    {
     "data": {
      "text/html": [
       "<div>\n",
       "<style scoped>\n",
       "    .dataframe tbody tr th:only-of-type {\n",
       "        vertical-align: middle;\n",
       "    }\n",
       "\n",
       "    .dataframe tbody tr th {\n",
       "        vertical-align: top;\n",
       "    }\n",
       "\n",
       "    .dataframe thead th {\n",
       "        text-align: right;\n",
       "    }\n",
       "</style>\n",
       "<table border=\"1\" class=\"dataframe\">\n",
       "  <thead>\n",
       "    <tr style=\"text-align: right;\">\n",
       "      <th></th>\n",
       "      <th>helpful</th>\n",
       "      <th>funny</th>\n",
       "      <th>hours</th>\n",
       "      <th>date</th>\n",
       "    </tr>\n",
       "  </thead>\n",
       "  <tbody>\n",
       "    <tr>\n",
       "      <th>count</th>\n",
       "      <td>9.000000e+06</td>\n",
       "      <td>9.000000e+06</td>\n",
       "      <td>9.000000e+06</td>\n",
       "      <td>9000000</td>\n",
       "    </tr>\n",
       "    <tr>\n",
       "      <th>mean</th>\n",
       "      <td>3.671115e+00</td>\n",
       "      <td>1.246652e+00</td>\n",
       "      <td>1.440662e+02</td>\n",
       "      <td>2020-05-22 09:39:30.844797184</td>\n",
       "    </tr>\n",
       "    <tr>\n",
       "      <th>min</th>\n",
       "      <td>0.000000e+00</td>\n",
       "      <td>0.000000e+00</td>\n",
       "      <td>0.000000e+00</td>\n",
       "      <td>2010-10-15 00:00:00</td>\n",
       "    </tr>\n",
       "    <tr>\n",
       "      <th>25%</th>\n",
       "      <td>0.000000e+00</td>\n",
       "      <td>0.000000e+00</td>\n",
       "      <td>1.590000e+01</td>\n",
       "      <td>2019-06-18 00:00:00</td>\n",
       "    </tr>\n",
       "    <tr>\n",
       "      <th>50%</th>\n",
       "      <td>0.000000e+00</td>\n",
       "      <td>0.000000e+00</td>\n",
       "      <td>5.270000e+01</td>\n",
       "      <td>2021-01-02 00:00:00</td>\n",
       "    </tr>\n",
       "    <tr>\n",
       "      <th>75%</th>\n",
       "      <td>0.000000e+00</td>\n",
       "      <td>0.000000e+00</td>\n",
       "      <td>1.740000e+02</td>\n",
       "      <td>2022-02-12 00:00:00</td>\n",
       "    </tr>\n",
       "    <tr>\n",
       "      <th>max</th>\n",
       "      <td>3.621200e+04</td>\n",
       "      <td>2.367400e+04</td>\n",
       "      <td>9.999000e+02</td>\n",
       "      <td>2022-12-31 00:00:00</td>\n",
       "    </tr>\n",
       "    <tr>\n",
       "      <th>std</th>\n",
       "      <td>6.120867e+01</td>\n",
       "      <td>3.937323e+01</td>\n",
       "      <td>2.071206e+02</td>\n",
       "      <td>NaN</td>\n",
       "    </tr>\n",
       "  </tbody>\n",
       "</table>\n",
       "</div>"
      ],
      "text/plain": [
       "            helpful         funny         hours                           date\n",
       "count  9.000000e+06  9.000000e+06  9.000000e+06                        9000000\n",
       "mean   3.671115e+00  1.246652e+00  1.440662e+02  2020-05-22 09:39:30.844797184\n",
       "min    0.000000e+00  0.000000e+00  0.000000e+00            2010-10-15 00:00:00\n",
       "25%    0.000000e+00  0.000000e+00  1.590000e+01            2019-06-18 00:00:00\n",
       "50%    0.000000e+00  0.000000e+00  5.270000e+01            2021-01-02 00:00:00\n",
       "75%    0.000000e+00  0.000000e+00  1.740000e+02            2022-02-12 00:00:00\n",
       "max    3.621200e+04  2.367400e+04  9.999000e+02            2022-12-31 00:00:00\n",
       "std    6.120867e+01  3.937323e+01  2.071206e+02                            NaN"
      ]
     },
     "execution_count": 80,
     "metadata": {},
     "output_type": "execute_result"
    }
   ],
   "source": [
    "# Index(['app_id', 'helpful', 'funny', 'date', 'is_recommended', 'hours',\n",
    "    #    'user_id', 'review_id'],\n",
    "\n",
    "HELPFUL = 'helpful'\n",
    "FUNNY = 'funny'\n",
    "DATE = 'date'\n",
    "IS_RECOMMENDED = 'is_recommended'\n",
    "HOURS = 'hours'\n",
    "USER_ID = 'user_id'\n",
    "REVIEW_ID = 'review_id'\n",
    "\n",
    "\n",
    "# Checking for the ranges and the distribution of the relevant data\n",
    "recommendations_df.loc[:, [HELPFUL, FUNNY, HOURS, DATE]].describe()"
   ]
  },
  {
   "cell_type": "code",
   "execution_count": 79,
   "metadata": {},
   "outputs": [
    {
     "data": {
      "text/html": [
       "<div>\n",
       "<style scoped>\n",
       "    .dataframe tbody tr th:only-of-type {\n",
       "        vertical-align: middle;\n",
       "    }\n",
       "\n",
       "    .dataframe tbody tr th {\n",
       "        vertical-align: top;\n",
       "    }\n",
       "\n",
       "    .dataframe thead th {\n",
       "        text-align: right;\n",
       "    }\n",
       "</style>\n",
       "<table border=\"1\" class=\"dataframe\">\n",
       "  <thead>\n",
       "    <tr style=\"text-align: right;\">\n",
       "      <th></th>\n",
       "      <th>helpful</th>\n",
       "      <th>funny</th>\n",
       "      <th>hours</th>\n",
       "      <th>date</th>\n",
       "    </tr>\n",
       "  </thead>\n",
       "  <tbody>\n",
       "    <tr>\n",
       "      <th>count</th>\n",
       "      <td>1.902239e+06</td>\n",
       "      <td>513004.000000</td>\n",
       "      <td>8.999454e+06</td>\n",
       "      <td>9000000</td>\n",
       "    </tr>\n",
       "    <tr>\n",
       "      <th>mean</th>\n",
       "      <td>1.736902e+01</td>\n",
       "      <td>21.870917</td>\n",
       "      <td>1.440750e+02</td>\n",
       "      <td>2020-05-22 09:39:30.844797184</td>\n",
       "    </tr>\n",
       "    <tr>\n",
       "      <th>min</th>\n",
       "      <td>2.000000e+00</td>\n",
       "      <td>2.000000</td>\n",
       "      <td>1.000000e-01</td>\n",
       "      <td>2010-10-15 00:00:00</td>\n",
       "    </tr>\n",
       "    <tr>\n",
       "      <th>25%</th>\n",
       "      <td>2.000000e+00</td>\n",
       "      <td>2.000000</td>\n",
       "      <td>1.590000e+01</td>\n",
       "      <td>2019-06-18 00:00:00</td>\n",
       "    </tr>\n",
       "    <tr>\n",
       "      <th>50%</th>\n",
       "      <td>3.000000e+00</td>\n",
       "      <td>3.000000</td>\n",
       "      <td>5.270000e+01</td>\n",
       "      <td>2021-01-02 00:00:00</td>\n",
       "    </tr>\n",
       "    <tr>\n",
       "      <th>75%</th>\n",
       "      <td>7.000000e+00</td>\n",
       "      <td>8.000000</td>\n",
       "      <td>1.740000e+02</td>\n",
       "      <td>2022-02-12 00:00:00</td>\n",
       "    </tr>\n",
       "    <tr>\n",
       "      <th>max</th>\n",
       "      <td>3.621200e+04</td>\n",
       "      <td>23674.000000</td>\n",
       "      <td>9.999000e+02</td>\n",
       "      <td>2022-12-31 00:00:00</td>\n",
       "    </tr>\n",
       "    <tr>\n",
       "      <th>std</th>\n",
       "      <td>1.322414e+02</td>\n",
       "      <td>163.542539</td>\n",
       "      <td>2.071238e+02</td>\n",
       "      <td>NaN</td>\n",
       "    </tr>\n",
       "  </tbody>\n",
       "</table>\n",
       "</div>"
      ],
      "text/plain": [
       "            helpful          funny         hours  \\\n",
       "count  1.902239e+06  513004.000000  8.999454e+06   \n",
       "mean   1.736902e+01      21.870917  1.440750e+02   \n",
       "min    2.000000e+00       2.000000  1.000000e-01   \n",
       "25%    2.000000e+00       2.000000  1.590000e+01   \n",
       "50%    3.000000e+00       3.000000  5.270000e+01   \n",
       "75%    7.000000e+00       8.000000  1.740000e+02   \n",
       "max    3.621200e+04   23674.000000  9.999000e+02   \n",
       "std    1.322414e+02     163.542539  2.071238e+02   \n",
       "\n",
       "                                date  \n",
       "count                        9000000  \n",
       "mean   2020-05-22 09:39:30.844797184  \n",
       "min              2010-10-15 00:00:00  \n",
       "25%              2019-06-18 00:00:00  \n",
       "50%              2021-01-02 00:00:00  \n",
       "75%              2022-02-12 00:00:00  \n",
       "max              2022-12-31 00:00:00  \n",
       "std                              NaN  "
      ]
     },
     "execution_count": 79,
     "metadata": {},
     "output_type": "execute_result"
    }
   ],
   "source": [
    "recommendations_df.loc[:, [HELPFUL, FUNNY, HOURS, DATE]].mask(recommendations_df == 0).describe()"
   ]
  },
  {
   "cell_type": "code",
   "execution_count": 56,
   "metadata": {},
   "outputs": [
    {
     "data": {
      "text/plain": [
       "Text(0.5, 1.0, 'Number of recommendations added per day')"
      ]
     },
     "execution_count": 56,
     "metadata": {},
     "output_type": "execute_result"
    },
    {
     "data": {
      "image/png": "[encoded data removed]",
      "text/plain": [
       "<Figure size 640x480 with 1 Axes>"
      ]
     },
     "metadata": {},
     "output_type": "display_data"
    }
   ],
   "source": [
    "\n",
    "import matplotlib.pyplot as plt\n",
    "# plot the distribution of count and dates.\n",
    "ADDED_RECS = recommendations_df[DATE].value_counts()\n",
    "# print(ADDED_RECS.sort_index())\n",
    "plt.plot(ADDED_RECS.sort_index())\n",
    "plt.title('Number of recommendations added per day')\n"
   ]
  },
  {
   "cell_type": "code",
   "execution_count": 66,
   "metadata": {},
   "outputs": [
    {
     "name": "stdout",
     "output_type": "stream",
     "text": [
      "<class 'pandas.core.frame.DataFrame'>\n",
      "RangeIndex: 4439 entries, 0 to 4438\n",
      "Data columns (total 2 columns):\n",
      " #   Column  Non-Null Count  Dtype         \n",
      "---  ------  --------------  -----         \n",
      " 0   date    4439 non-null   datetime64[ns]\n",
      " 1   count   4439 non-null   int64         \n",
      "dtypes: datetime64[ns](1), int64(1)\n",
      "memory usage: 69.5 KB\n"
     ]
    }
   ],
   "source": [
    "df_added = pd.DataFrame(ADDED_RECS)\n",
    "df_added.reset_index(inplace=True)\n",
    "df_added.info()"
   ]
  },
  {
   "cell_type": "code",
   "execution_count": 72,
   "metadata": {},
   "outputs": [],
   "source": [
    "# Regplot\n",
    "df_added[DATE] = pd.to_datetime(df_added[DATE])\n"
   ]
  },
  {
   "cell_type": "code",
   "execution_count": 73,
   "metadata": {},
   "outputs": [
    {
     "data": {
      "text/html": [
       "<div>\n",
       "<style scoped>\n",
       "    .dataframe tbody tr th:only-of-type {\n",
       "        vertical-align: middle;\n",
       "    }\n",
       "\n",
       "    .dataframe tbody tr th {\n",
       "        vertical-align: top;\n",
       "    }\n",
       "\n",
       "    .dataframe thead th {\n",
       "        text-align: right;\n",
       "    }\n",
       "</style>\n",
       "<table border=\"1\" class=\"dataframe\">\n",
       "  <thead>\n",
       "    <tr style=\"text-align: right;\">\n",
       "      <th></th>\n",
       "      <th>date</th>\n",
       "      <th>count</th>\n",
       "    </tr>\n",
       "  </thead>\n",
       "  <tbody>\n",
       "    <tr>\n",
       "      <th>0</th>\n",
       "      <td>2019-06-29</td>\n",
       "      <td>36561</td>\n",
       "    </tr>\n",
       "    <tr>\n",
       "      <th>1</th>\n",
       "      <td>2022-11-22</td>\n",
       "      <td>35988</td>\n",
       "    </tr>\n",
       "    <tr>\n",
       "      <th>2</th>\n",
       "      <td>2022-11-23</td>\n",
       "      <td>32764</td>\n",
       "    </tr>\n",
       "    <tr>\n",
       "      <th>3</th>\n",
       "      <td>2019-06-30</td>\n",
       "      <td>29682</td>\n",
       "    </tr>\n",
       "    <tr>\n",
       "      <th>4</th>\n",
       "      <td>2020-11-25</td>\n",
       "      <td>26315</td>\n",
       "    </tr>\n",
       "  </tbody>\n",
       "</table>\n",
       "</div>"
      ],
      "text/plain": [
       "        date  count\n",
       "0 2019-06-29  36561\n",
       "1 2022-11-22  35988\n",
       "2 2022-11-23  32764\n",
       "3 2019-06-30  29682\n",
       "4 2020-11-25  26315"
      ]
     },
     "execution_count": 73,
     "metadata": {},
     "output_type": "execute_result"
    }
   ],
   "source": [
    "df_added.head()"
   ]
  },
  {
   "cell_type": "code",
   "execution_count": 42,
   "metadata": {},
   "outputs": [
    {
     "data": {
      "text/plain": [
       "<Axes: xlabel='year', ylabel='month'>"
      ]
     },
     "execution_count": 42,
     "metadata": {},
     "output_type": "execute_result"
    },
    {
     "data": {
      "image/png": "[encoded data removed]",
      "text/plain": [
       "<Figure size 640x480 with 2 Axes>"
      ]
     },
     "metadata": {},
     "output_type": "display_data"
    }
   ],
   "source": [
    "# Plot a heatmap of the months as Y and X as years of the count of reviews\n",
    "recommendations_df[DATE] = pd.to_datetime(recommendations_df[DATE])\n",
    "recommendations_df['year'] = recommendations_df[DATE].dt.year\n",
    "recommendations_df['month'] = recommendations_df[DATE].dt.month\n",
    "recommendations_df['day'] = recommendations_df[DATE].dt.day\n",
    "recommendations_df['dayofweek'] = recommendations_df[DATE].dt.dayofweek\n",
    "recommendations_df['dayofyear'] = recommendations_df[DATE].dt.dayofyear\n",
    "\n",
    "# print(recommendations_df.head()) \n",
    "sns.heatmap(recommendations_df.pivot_table(index='month', columns='year', values='review_id', aggfunc='count'), cmap='coolwarm')"
   ]
  },
  {
   "cell_type": "code",
   "execution_count": 83,
   "metadata": {},
   "outputs": [
    {
     "data": {
      "text/plain": [
       "<Axes: xlabel='dayofweek', ylabel='month'>"
      ]
     },
     "execution_count": 83,
     "metadata": {},
     "output_type": "execute_result"
    },
    {
     "data": {
      "image/png": "[encoded data removed]",
      "text/plain": [
       "<Figure size 640x480 with 2 Axes>"
      ]
     },
     "metadata": {},
     "output_type": "display_data"
    }
   ],
   "source": [
    "# sns.heatmap(recommendations_df.pivot_table(index='month', columns='year', values='review_id', aggfunc='count'), cmap='coolwarm')\n",
    "sns.heatmap(recommendations_df.pivot_table(index='month', columns='dayofweek', values='review_id', aggfunc='count'), cmap='coolwarm')"
   ]
  },
  {
   "cell_type": "code",
   "execution_count": 84,
   "metadata": {},
   "outputs": [
    {
     "data": {
      "text/plain": [
       "<Axes: xlabel='day', ylabel='month'>"
      ]
     },
     "execution_count": 84,
     "metadata": {},
     "output_type": "execute_result"
    },
    {
     "data": {
      "image/png": "[encoded data removed]",
      "text/plain": [
       "<Figure size 640x480 with 2 Axes>"
      ]
     },
     "metadata": {},
     "output_type": "display_data"
    }
   ],
   "source": [
    "sns.heatmap(recommendations_df.pivot_table(index='month', columns='day', values='review_id', aggfunc='count'), cmap='coolwarm')"
   ]
  },
  {
   "cell_type": "code",
   "execution_count": 85,
   "metadata": {},
   "outputs": [
    {
     "name": "stdout",
     "output_type": "stream",
     "text": [
      "            helpful         funny         hours  \\\n",
      "count  9.000000e+06  9.000000e+06  9.000000e+06   \n",
      "mean   3.671115e+00  1.246652e+00  1.440662e+02   \n",
      "min    0.000000e+00  0.000000e+00  0.000000e+00   \n",
      "25%    0.000000e+00  0.000000e+00  1.590000e+01   \n",
      "50%    0.000000e+00  0.000000e+00  5.270000e+01   \n",
      "75%    0.000000e+00  0.000000e+00  1.740000e+02   \n",
      "max    3.621200e+04  2.367400e+04  9.999000e+02   \n",
      "std    6.120867e+01  3.937323e+01  2.071206e+02   \n",
      "\n",
      "                                date         hours  \n",
      "count                        9000000  9.000000e+06  \n",
      "mean   2020-05-22 09:39:30.844797184  1.440662e+02  \n",
      "min              2010-10-15 00:00:00  0.000000e+00  \n",
      "25%              2019-06-18 00:00:00  1.590000e+01  \n",
      "50%              2021-01-02 00:00:00  5.270000e+01  \n",
      "75%              2022-02-12 00:00:00  1.740000e+02  \n",
      "max              2022-12-31 00:00:00  9.999000e+02  \n",
      "std                              NaN  2.071206e+02  \n"
     ]
    }
   ],
   "source": [
    "# Mean, min, max, median, quartiles\n",
    "numerical_features_recommendation = [HELPFUL, FUNNY, HOURS, DATE, HOURS]\n",
    "print(recommendations_df[numerical_features_recommendation].describe())"
   ]
  },
  {
   "cell_type": "code",
   "execution_count": 87,
   "metadata": {},
   "outputs": [
    {
     "data": {
      "text/html": [
       "<div>\n",
       "<style scoped>\n",
       "    .dataframe tbody tr th:only-of-type {\n",
       "        vertical-align: middle;\n",
       "    }\n",
       "\n",
       "    .dataframe tbody tr th {\n",
       "        vertical-align: top;\n",
       "    }\n",
       "\n",
       "    .dataframe thead th {\n",
       "        text-align: right;\n",
       "    }\n",
       "</style>\n",
       "<table border=\"1\" class=\"dataframe\">\n",
       "  <thead>\n",
       "    <tr style=\"text-align: right;\">\n",
       "      <th></th>\n",
       "      <th>helpful</th>\n",
       "      <th>funny</th>\n",
       "      <th>hours</th>\n",
       "      <th>date</th>\n",
       "      <th>hours</th>\n",
       "    </tr>\n",
       "  </thead>\n",
       "  <tbody>\n",
       "    <tr>\n",
       "      <th>helpful</th>\n",
       "      <td>1.000000</td>\n",
       "      <td>0.443884</td>\n",
       "      <td>0.007385</td>\n",
       "      <td>-0.020669</td>\n",
       "      <td>0.007385</td>\n",
       "    </tr>\n",
       "    <tr>\n",
       "      <th>funny</th>\n",
       "      <td>0.443884</td>\n",
       "      <td>1.000000</td>\n",
       "      <td>0.005857</td>\n",
       "      <td>-0.019784</td>\n",
       "      <td>0.005857</td>\n",
       "    </tr>\n",
       "    <tr>\n",
       "      <th>hours</th>\n",
       "      <td>0.007385</td>\n",
       "      <td>0.005857</td>\n",
       "      <td>1.000000</td>\n",
       "      <td>-0.098345</td>\n",
       "      <td>1.000000</td>\n",
       "    </tr>\n",
       "    <tr>\n",
       "      <th>date</th>\n",
       "      <td>-0.020669</td>\n",
       "      <td>-0.019784</td>\n",
       "      <td>-0.098345</td>\n",
       "      <td>1.000000</td>\n",
       "      <td>-0.098345</td>\n",
       "    </tr>\n",
       "    <tr>\n",
       "      <th>hours</th>\n",
       "      <td>0.007385</td>\n",
       "      <td>0.005857</td>\n",
       "      <td>1.000000</td>\n",
       "      <td>-0.098345</td>\n",
       "      <td>1.000000</td>\n",
       "    </tr>\n",
       "  </tbody>\n",
       "</table>\n",
       "</div>"
      ],
      "text/plain": [
       "          helpful     funny     hours      date     hours\n",
       "helpful  1.000000  0.443884  0.007385 -0.020669  0.007385\n",
       "funny    0.443884  1.000000  0.005857 -0.019784  0.005857\n",
       "hours    0.007385  0.005857  1.000000 -0.098345  1.000000\n",
       "date    -0.020669 -0.019784 -0.098345  1.000000 -0.098345\n",
       "hours    0.007385  0.005857  1.000000 -0.098345  1.000000"
      ]
     },
     "execution_count": 87,
     "metadata": {},
     "output_type": "execute_result"
    }
   ],
   "source": [
    "recommendations_df[numerical_features_recommendation].corr()"
   ]
  },
  {
   "cell_type": "code",
   "execution_count": 89,
   "metadata": {},
   "outputs": [
    {
     "data": {
      "text/plain": [
       "<Axes: >"
      ]
     },
     "execution_count": 89,
     "metadata": {},
     "output_type": "execute_result"
    },
    {
     "data": {
      "image/png": "[encoded data removed]",
      "text/plain": [
       "<Figure size 640x480 with 2 Axes>"
      ]
     },
     "metadata": {},
     "output_type": "display_data"
    }
   ],
   "source": [
    "sns.heatmap(recommendations_df[numerical_features_recommendation].corr())"
   ]
  },
  {
   "cell_type": "code",
   "execution_count": 95,
   "metadata": {},
   "outputs": [
    {
     "data": {
      "text/plain": [
       "<Axes: >"
      ]
     },
     "execution_count": 95,
     "metadata": {},
     "output_type": "execute_result"
    },
    {
     "data": {
      "image/png": "[encoded data removed]",
      "text/plain": [
       "<Figure size 640x480 with 2 Axes>"
      ]
     },
     "metadata": {},
     "output_type": "display_data"
    }
   ],
   "source": [
    "masked_continuous_features = recommendations_df[numerical_features_recommendation].mask(recommendations_df == 0)\n",
    "sns.heatmap(masked_continuous_features.corr())"
   ]
  },
  {
   "cell_type": "code",
   "execution_count": 96,
   "metadata": {},
   "outputs": [
    {
     "data": {
      "text/html": [
       "<div>\n",
       "<style scoped>\n",
       "    .dataframe tbody tr th:only-of-type {\n",
       "        vertical-align: middle;\n",
       "    }\n",
       "\n",
       "    .dataframe tbody tr th {\n",
       "        vertical-align: top;\n",
       "    }\n",
       "\n",
       "    .dataframe thead th {\n",
       "        text-align: right;\n",
       "    }\n",
       "</style>\n",
       "<table border=\"1\" class=\"dataframe\">\n",
       "  <thead>\n",
       "    <tr style=\"text-align: right;\">\n",
       "      <th></th>\n",
       "      <th>helpful</th>\n",
       "      <th>funny</th>\n",
       "      <th>hours</th>\n",
       "      <th>date</th>\n",
       "      <th>hours</th>\n",
       "    </tr>\n",
       "  </thead>\n",
       "  <tbody>\n",
       "    <tr>\n",
       "      <th>helpful</th>\n",
       "      <td>1.000000</td>\n",
       "      <td>0.429577</td>\n",
       "      <td>0.004367</td>\n",
       "      <td>0.008995</td>\n",
       "      <td>0.004367</td>\n",
       "    </tr>\n",
       "    <tr>\n",
       "      <th>funny</th>\n",
       "      <td>0.429577</td>\n",
       "      <td>1.000000</td>\n",
       "      <td>0.024790</td>\n",
       "      <td>-0.039450</td>\n",
       "      <td>0.024790</td>\n",
       "    </tr>\n",
       "    <tr>\n",
       "      <th>hours</th>\n",
       "      <td>0.004367</td>\n",
       "      <td>0.024790</td>\n",
       "      <td>1.000000</td>\n",
       "      <td>-0.098427</td>\n",
       "      <td>1.000000</td>\n",
       "    </tr>\n",
       "    <tr>\n",
       "      <th>date</th>\n",
       "      <td>0.008995</td>\n",
       "      <td>-0.039450</td>\n",
       "      <td>-0.098427</td>\n",
       "      <td>1.000000</td>\n",
       "      <td>-0.098427</td>\n",
       "    </tr>\n",
       "    <tr>\n",
       "      <th>hours</th>\n",
       "      <td>0.004367</td>\n",
       "      <td>0.024790</td>\n",
       "      <td>1.000000</td>\n",
       "      <td>-0.098427</td>\n",
       "      <td>1.000000</td>\n",
       "    </tr>\n",
       "  </tbody>\n",
       "</table>\n",
       "</div>"
      ],
      "text/plain": [
       "          helpful     funny     hours      date     hours\n",
       "helpful  1.000000  0.429577  0.004367  0.008995  0.004367\n",
       "funny    0.429577  1.000000  0.024790 -0.039450  0.024790\n",
       "hours    0.004367  0.024790  1.000000 -0.098427  1.000000\n",
       "date     0.008995 -0.039450 -0.098427  1.000000 -0.098427\n",
       "hours    0.004367  0.024790  1.000000 -0.098427  1.000000"
      ]
     },
     "execution_count": 96,
     "metadata": {},
     "output_type": "execute_result"
    }
   ],
   "source": [
    "masked_continuous_features.corr()"
   ]
  },
  {
   "cell_type": "code",
   "execution_count": 103,
   "metadata": {},
   "outputs": [],
   "source": [
    "# Plot correlation\n",
    "def defineCategory(hours):\n",
    "    if hours > 50:\n",
    "        return \"> 50 hours\"\n",
    "    elif hours > 20:\n",
    "        return \"> 20 hours\"\n",
    "    elif hours > 1:\n",
    "        return \"> 1 hours\"\n",
    "    return \"< 1 hours\"\n",
    "\n",
    "recommendations_df['hours_cat'] = recommendations_df['hours'].apply(defineCategory)\n"
   ]
  },
  {
   "cell_type": "code",
   "execution_count": 104,
   "metadata": {},
   "outputs": [],
   "source": [
    "sns.pairplot(recommendations_df, hue=\"hours_cat\")"
   ]
  }
 ],
 "metadata": {
  "kernelspec": {
   "display_name": ".venv",
   "language": "python",
   "name": "python3"
  },
  "language_info": {
   "codemirror_mode": {
    "name": "ipython",
    "version": 3
   },
   "file_extension": ".py",
   "mimetype": "text/x-python",
   "name": "python",
   "nbconvert_exporter": "python",
   "pygments_lexer": "ipython3",
   "version": "3.10.5"
  }
 },
 "nbformat": 4,
 "nbformat_minor": 2
}
