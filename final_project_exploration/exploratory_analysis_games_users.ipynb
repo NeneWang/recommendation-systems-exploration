{
 "cells": [
  {
   "cell_type": "code",
   "execution_count": null,
   "metadata": {},
   "outputs": [],
   "source": [
    "\n",
    "games_df = pd.read_csv('data/downsized/games.csv')\n",
    "users_df = pd.read_csv('data/downsized/users.csv')"
   ]
  },
  {
   "cell_type": "code",
   "execution_count": null,
   "metadata": {},
   "outputs": [],
   "source": [
    "# Index(['app_id', 'title', 'date_release', 'win', 'mac', 'linux', 'rating',\n",
    "#        'positive_ratio', 'user_reviews', 'price_final', 'price_original',\n",
    "#        'discount', 'steam_deck'],\n",
    "#       dtype='object')\n",
    "\n",
    "APP_ID = 'app_id'\n",
    "TITLE = 'title'\n",
    "DATE_RELEASE = 'date_release'\n",
    "WIN = 'win'\n",
    "MAC = 'mac'\n",
    "LINUX = 'linux'\n",
    "RATING = 'rating'\n",
    "POSITIVE_RATIO = 'positive_ratio'\n",
    "USER_REVIEWS = 'user_reviews'\n",
    "PRICE_FINAL = 'price_final'\n",
    "PRICE_ORIGINAL = 'price_original'\n",
    "DISCOUNT = 'discount'\n",
    "STEAM_DECK = 'steam_deck'\n",
    "\n"
   ]
  },
  {
   "cell_type": "code",
   "execution_count": null,
   "metadata": {},
   "outputs": [],
   "source": [
    "# Plot the count of releases over time.\n",
    "games_df[DATE_RELEASE] = pd.to_datetime(games_df[DATE_RELEASE])\n",
    "\n",
    "# Plot multiple lines showing where win is true; mac is true; linux is true; steam_deck is true\n",
    "distribution_time = games_df.groupby('year')[[WIN, MAC, LINUX, STEAM_DECK]].sum()\n",
    "# Count of games where win//... is true\n",
    "# for col in [WIN, MAC, LINUX, STEAM_DECK]:\n",
    "#     games_df[col] = games_df[col].astype(int)\n",
    "#     print(games_df.groupby('year')[col].sum().plot(label=col))\n",
    "\n",
    "sns.lineplot(data=distribution_time)"
   ]
  },
  {
   "cell_type": "code",
   "execution_count": null,
   "metadata": {},
   "outputs": [],
   "source": [
    "# Heatmap of the count of games released over the years and months.\n",
    "sns.heatmap(games_df.pivot_table(index='month', columns='year', values='app_id', aggfunc='count'), cmap='coolwarm')"
   ]
  },
  {
   "cell_type": "code",
   "execution_count": null,
   "metadata": {},
   "outputs": [],
   "source": []
  }
 ],
 "metadata": {
  "language_info": {
   "name": "python"
  }
 },
 "nbformat": 4,
 "nbformat_minor": 2
}
