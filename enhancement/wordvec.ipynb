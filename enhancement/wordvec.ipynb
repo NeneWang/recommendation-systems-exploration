{
 "cells": [
  {
   "cell_type": "code",
   "execution_count": 18,
   "metadata": {},
   "outputs": [
    {
     "name": "stdout",
     "output_type": "stream",
     "text": [
      "           id                                      product_title  \\\n",
      "0  0002005018                                       Clara Callan   \n",
      "1  0399135782                             The Kitchen God's Wife   \n",
      "2  0440234743                                      The Testament   \n",
      "3  0452264464               Beloved (Plume Contemporary Fiction)   \n",
      "4  0609804618  Our Dumb Century: The Onion Presents 100 Years...   \n",
      "\n",
      "                                       product_image  product_price  \\\n",
      "0  http://images.amazon.com/images/P/0002005018.0...            NaN   \n",
      "1  http://images.amazon.com/images/P/0399135782.0...            NaN   \n",
      "2  http://images.amazon.com/images/P/0440234743.0...            NaN   \n",
      "3  http://images.amazon.com/images/P/0452264464.0...            NaN   \n",
      "4  http://images.amazon.com/images/P/0609804618.0...            NaN   \n",
      "\n",
      "                                        product_soup  product_tags  \n",
      "0  Clara Callan Richard Bruce Wright HarperFlamin...           NaN  \n",
      "1    The Kitchen God's Wife Amy Tan Putnam Pub Group           NaN  \n",
      "2                    The Testament John Grisham Dell           NaN  \n",
      "3  Beloved (Plume Contemporary Fiction) Toni Morr...           NaN  \n",
      "4  Our Dumb Century: The Onion Presents 100 Years...           NaN  \n"
     ]
    }
   ],
   "source": [
    "import pandas as pd\n",
    "\n",
    "# Load the dataset\n",
    "file_path = '../data/products_books_v1_10_10.csv'\n",
    "data = pd.read_csv(file_path)\n",
    "\n",
    "# Display the first few rows of the dataset\n",
    "print(data.head())\n",
    "\n",
    "\n",
    "from gensim.models import Word2Vec\n",
    "import gensim\n",
    "import string\n"
   ]
  },
  {
   "cell_type": "code",
   "execution_count": 19,
   "metadata": {},
   "outputs": [],
   "source": [
    "\n",
    "# Preprocess text data\n",
    "data['processed_soup'] = data['product_soup'].str.lower().str.translate(str.maketrans('', '', string.punctuation))\n",
    "\n",
    "# Prepare data for Word2Vec model\n",
    "sentences = [row.split() for row in data['processed_soup'].dropna()]\n",
    "\n",
    "# Train Word2Vec model\n",
    "model = Word2Vec(sentences, vector_size=100, window=5, min_count=1, workers=4)\n",
    "\n",
    "# Save the model for later use\n",
    "model.save(\"../data/book_wordvec.model\")\n",
    "\n"
   ]
  },
  {
   "cell_type": "code",
   "execution_count": 20,
   "metadata": {},
   "outputs": [
    {
     "data": {
      "text/plain": [
       "['Clara Callan',\n",
       " 'Cunt: A Declaration of Independence (Live Girls)',\n",
       " 'Callander Square',\n",
       " 'Cunt: A Declaration of Independence (Live Girls Series)']"
      ]
     },
     "execution_count": 20,
     "metadata": {},
     "output_type": "execute_result"
    }
   ],
   "source": [
    "# Updated function to recommend books based on similar word vectors\n",
    "def recommend_books_updated(input_text, top_n=5):\n",
    "    input_text = input_text.lower().translate(str.maketrans('', '', string.punctuation)).split()\n",
    "    vector = model.wv[input_text].mean(axis=0)\n",
    "    similar_vectors = model.wv.similar_by_vector(vector, topn=top_n + 10)  # Retrieve more results to filter unique titles\n",
    "    recommended_titles = []\n",
    "    for book_vector in similar_vectors:\n",
    "        similar_title = data.loc[data['processed_soup'].apply(lambda x: any(word in x for word in input_text)), 'product_title'].unique()\n",
    "        for title in similar_title:\n",
    "            if title not in recommended_titles and len(recommended_titles) < top_n:\n",
    "                recommended_titles.append(title)\n",
    "    return recommended_titles\n",
    "\n",
    "\n",
    "# Test the updated function with the same book title\n",
    "recommend_books_updated(\"Clara Callan\")"
   ]
  },
  {
   "cell_type": "code",
   "execution_count": 21,
   "metadata": {},
   "outputs": [
    {
     "data": {
      "text/plain": [
       "[\"The Sorcerer's Companion: A Guide to the Magical World of Harry Potter\",\n",
       " \"Harry Potter and the Sorcerer's Stone (Harry Potter (Paperback))\",\n",
       " \"Harry Potter and the Sorcerer's Stone (Book 1)\",\n",
       " 'Harry Potter and the Chamber of Secrets (Book 2)',\n",
       " 'Harry Potter and the Prisoner of Azkaban (Book 3)']"
      ]
     },
     "execution_count": 21,
     "metadata": {},
     "output_type": "execute_result"
    }
   ],
   "source": [
    "\n",
    "# Test the updated function Kings the same book title\n",
    "recommend_books_updated(\"Harry\")"
   ]
  },
  {
   "cell_type": "code",
   "execution_count": null,
   "metadata": {},
   "outputs": [
    {
     "data": {
      "text/plain": [
       "['New Vegetarian: Bold and Beautiful Recipes for Every Occasion',\n",
       " 'Prague : A Novel',\n",
       " 'Seabiscuit: An American Legend',\n",
       " 'Pigs in Heaven',\n",
       " 'This Year It Will Be Different: And Other Stories']"
      ]
     },
     "execution_count": 4,
     "metadata": {},
     "output_type": "execute_result"
    }
   ],
   "source": [
    "\n",
    "# Test the updated function Kings the same book title\n",
    "recommend_books_updated(\"Pale Kings and Prince\")"
   ]
  },
  {
   "cell_type": "code",
   "execution_count": null,
   "metadata": {},
   "outputs": [
    {
     "data": {
      "text/plain": [
       "['Pigs in Heaven',\n",
       " 'Poisonwood Bible Edition Uk',\n",
       " 'The Game of Kings (Lymond Chronicles, 1)',\n",
       " 'The Bean Trees',\n",
       " 'Homeland and Other Stories']"
      ]
     },
     "execution_count": 5,
     "metadata": {},
     "output_type": "execute_result"
    }
   ],
   "source": [
    "\n",
    "# Test the updated function Kings the same book title\n",
    "recommend_books_updated(\"Kings\")"
   ]
  },
  {
   "cell_type": "code",
   "execution_count": null,
   "metadata": {},
   "outputs": [
    {
     "data": {
      "text/plain": [
       "['Pale Fire: A Novel (Vintage International)',\n",
       " 'On a Pale Horse',\n",
       " 'Pale Horse Coming',\n",
       " 'Pale Kings and Princes',\n",
       " 'On a Pale Horse (Incarnations of Immortality, Bk. 1)']"
      ]
     },
     "execution_count": 6,
     "metadata": {},
     "output_type": "execute_result"
    }
   ],
   "source": [
    "\n",
    "# Test the updated function Kings the same book title\n",
    "recommend_books_updated(\"Pale\")"
   ]
  },
  {
   "cell_type": "code",
   "execution_count": 4,
   "metadata": {},
   "outputs": [],
   "source": [
    "\n",
    "from summa import keywords\n"
   ]
  },
  {
   "cell_type": "code",
   "execution_count": 8,
   "metadata": {},
   "outputs": [
    {
     "name": "stdout",
     "output_type": "stream",
     "text": [
      "Keywords: \n"
     ]
    }
   ],
   "source": [
    "\n",
    "# Input sentence\n",
    "sentence = \"\"\"He is the King\"\"\"\n",
    "\n",
    "# Extract keywords using TextRank algorithm\n",
    "keywords_list = keywords.keywords(sentence, words=3)\n",
    "\n",
    "print(\"Keywords:\", keywords_list)"
   ]
  },
  {
   "cell_type": "code",
   "execution_count": 11,
   "metadata": {},
   "outputs": [
    {
     "name": "stdout",
     "output_type": "stream",
     "text": [
      "\n"
     ]
    }
   ],
   "source": [
    "from gensim.summarization import keywords\n",
    "\n",
    "# Example text\n",
    "text = \"Pale Kings and Prince\"\n",
    "\n",
    "# Getting keywords\n",
    "key_words = keywords(text)\n",
    "\n",
    "print(key_words)\n"
   ]
  },
  {
   "cell_type": "code",
   "execution_count": 12,
   "metadata": {},
   "outputs": [
    {
     "name": "stdout",
     "output_type": "stream",
     "text": [
      "drug\n",
      "spenser\n",
      "sans\n"
     ]
    }
   ],
   "source": [
    "from gensim.summarization import keywords\n",
    "\n",
    "# Example text\n",
    "text = \"Pale Kings and Princes is a Spenser novel by Robert B. Parker. The title is taken from John Keats's poem La Belle Dame sans Merci: A Ballad. Following the murder of a reporter, Spenser is hired by a newspaper to investigate drug smuggling around the area of Wheaton, Massachusetts.\"\"\"\n",
    "\n",
    "# Getting keywords\n",
    "key_words = keywords(text)\n",
    "\n",
    "print(key_words)\n"
   ]
  },
  {
   "cell_type": "code",
   "execution_count": 7,
   "metadata": {},
   "outputs": [
    {
     "name": "stdout",
     "output_type": "stream",
     "text": [
      "Nouns: ['Kings']\n"
     ]
    }
   ],
   "source": [
    "import spacy\n",
    "\n",
    "# Load the English tokenizer, tagger, parser, NER, and word vectors\n",
    "nlp = spacy.load(\"en_core_web_sm\")\n",
    "\n",
    "# Your text\n",
    "text = \"Pale Kings and Prince\"\n",
    "\n",
    "# Process the text\n",
    "doc = nlp(text)\n",
    "\n",
    "# Extract nouns\n",
    "nouns = [token.text for token in doc if token.pos_ == \"NOUN\"]\n",
    "\n",
    "print(\"Nouns:\", nouns)\n"
   ]
  },
  {
   "cell_type": "code",
   "execution_count": 14,
   "metadata": {},
   "outputs": [],
   "source": [
    "\n",
    "def getMostSignificantKeyword(text):\n",
    "    \"\"\"\n",
    "    Extracts keywords from the provided text, prioritizing parts of speech in a specific order.\n",
    "    Continues until the combined length of keywords is at least 3 characters.\n",
    "    \"\"\"\n",
    "    doc = nlp(text)\n",
    "    priorityKey = \"\"\n",
    "    fullsearch = \"\"\n",
    "    \n",
    "    # Define the order of part of speech tags to search based on their relevance\n",
    "    pos_priority = [\"NOUN\", \"VERB\", \"ADJ\", \"PROPN\", \"ADV\", \"PRON\", \"ADP\", \"CCONJ\", \"SCONJ\", \"DET\", \"AUX\", \"NUM\", \"PART\", \"INTJ\", \"SYM\", \"PUNCT\", \"X\"]\n",
    "    \n",
    "    # Iterate over each part of speech in priority order\n",
    "    for pos in pos_priority:\n",
    "        keywords = [token.text for token in doc if token.pos_ == pos]\n",
    "        for key in keywords:\n",
    "            fullsearch += f\" {key}\"  # Append all found keywords to fullsearch\n",
    "            if len(key) > len(priorityKey):\n",
    "                priorityKey = key  # Update priorityKey if a longer keyword is found\n",
    "            if len(priorityKey) >= 3:\n",
    "                break  # Break inner loop if condition is met\n",
    "        if len(priorityKey) >= 3:\n",
    "            break  # Break outer loop if condition is met\n",
    "\n",
    "    return priorityKey, fullsearch"
   ]
  },
  {
   "cell_type": "code",
   "execution_count": 15,
   "metadata": {},
   "outputs": [
    {
     "data": {
      "text/plain": [
       "('name', ' name')"
      ]
     },
     "execution_count": 15,
     "metadata": {},
     "output_type": "execute_result"
    }
   ],
   "source": [
    "getMostSignificantKeyword(\"Hi my name is john cena. I am the knight here\")"
   ]
  },
  {
   "cell_type": "code",
   "execution_count": 16,
   "metadata": {},
   "outputs": [
    {
     "data": {
      "text/plain": [
       "('Kings', ' Kings')"
      ]
     },
     "execution_count": 16,
     "metadata": {},
     "output_type": "execute_result"
    }
   ],
   "source": [
    "getMostSignificantKeyword(\"Pale Kings and Prince\")"
   ]
  },
  {
   "cell_type": "code",
   "execution_count": 22,
   "metadata": {},
   "outputs": [
    {
     "data": {
      "text/plain": [
       "('Harry', ' Harry')"
      ]
     },
     "execution_count": 22,
     "metadata": {},
     "output_type": "execute_result"
    }
   ],
   "source": [
    "getMostSignificantKeyword(\"Harry from Harry Potter and the Sorcerer's Stone (Book 1)\")"
   ]
  },
  {
   "cell_type": "code",
   "execution_count": null,
   "metadata": {},
   "outputs": [],
   "source": []
  }
 ],
 "metadata": {
  "kernelspec": {
   "display_name": "venv",
   "language": "python",
   "name": "python3"
  },
  "language_info": {
   "codemirror_mode": {
    "name": "ipython",
    "version": 3
   },
   "file_extension": ".py",
   "mimetype": "text/x-python",
   "name": "python",
   "nbconvert_exporter": "python",
   "pygments_lexer": "ipython3",
   "version": "3.9.12"
  }
 },
 "nbformat": 4,
 "nbformat_minor": 2
}
