{
 "cells": [
  {
   "cell_type": "code",
   "execution_count": 1,
   "metadata": {},
   "outputs": [
    {
     "name": "stdout",
     "output_type": "stream",
     "text": [
      "           id                                      product_title  \\\n",
      "0  0002005018                                       Clara Callan   \n",
      "1  0399135782                             The Kitchen God's Wife   \n",
      "2  0440234743                                      The Testament   \n",
      "3  0452264464               Beloved (Plume Contemporary Fiction)   \n",
      "4  0609804618  Our Dumb Century: The Onion Presents 100 Years...   \n",
      "\n",
      "                                       product_image  product_price  \\\n",
      "0  http://images.amazon.com/images/P/0002005018.0...            NaN   \n",
      "1  http://images.amazon.com/images/P/0399135782.0...            NaN   \n",
      "2  http://images.amazon.com/images/P/0440234743.0...            NaN   \n",
      "3  http://images.amazon.com/images/P/0452264464.0...            NaN   \n",
      "4  http://images.amazon.com/images/P/0609804618.0...            NaN   \n",
      "\n",
      "                                        product_soup  product_tags  \n",
      "0  Clara Callan Richard Bruce Wright HarperFlamin...           NaN  \n",
      "1    The Kitchen God's Wife Amy Tan Putnam Pub Group           NaN  \n",
      "2                    The Testament John Grisham Dell           NaN  \n",
      "3  Beloved (Plume Contemporary Fiction) Toni Morr...           NaN  \n",
      "4  Our Dumb Century: The Onion Presents 100 Years...           NaN  \n"
     ]
    }
   ],
   "source": [
    "import pandas as pd\n",
    "\n",
    "# Load the dataset\n",
    "file_path = '../data/products_books_v1_10_10.csv'\n",
    "data = pd.read_csv(file_path)\n",
    "\n",
    "# Display the first few rows of the dataset\n",
    "print(data.head())\n",
    "\n",
    "\n",
    "from gensim.models import Word2Vec\n",
    "import gensim\n",
    "import string\n"
   ]
  },
  {
   "cell_type": "code",
   "execution_count": 6,
   "metadata": {},
   "outputs": [],
   "source": [
    "\n",
    "# Preprocess text data\n",
    "data['processed_soup'] = data['product_soup'].str.lower().str.translate(str.maketrans('', '', string.punctuation))\n",
    "\n",
    "# Prepare data for Word2Vec model\n",
    "sentences = [row.split() for row in data['processed_soup'].dropna()]\n",
    "\n",
    "# Train Word2Vec model\n",
    "model = Word2Vec(sentences, vector_size=100, window=5, min_count=1, workers=4)\n",
    "\n",
    "# Save the model for later use\n",
    "model.save(\"../data/book_wordvec.model\")\n",
    "\n"
   ]
  },
  {
   "cell_type": "code",
   "execution_count": 10,
   "metadata": {},
   "outputs": [
    {
     "data": {
      "text/plain": [
       "['Clara Callan',\n",
       " 'Cunt: A Declaration of Independence (Live Girls)',\n",
       " 'Callander Square',\n",
       " 'Cunt: A Declaration of Independence (Live Girls Series)']"
      ]
     },
     "execution_count": 10,
     "metadata": {},
     "output_type": "execute_result"
    }
   ],
   "source": [
    "# Updated function to recommend books based on similar word vectors\n",
    "def recommend_books_updated(input_text, top_n=5):\n",
    "    input_text = input_text.lower().translate(str.maketrans('', '', string.punctuation)).split()\n",
    "    vector = model.wv[input_text].mean(axis=0)\n",
    "    similar_vectors = model.wv.similar_by_vector(vector, topn=top_n + 10)  # Retrieve more results to filter unique titles\n",
    "    recommended_titles = []\n",
    "    for book_vector in similar_vectors:\n",
    "        similar_title = data.loc[data['processed_soup'].apply(lambda x: any(word in x for word in input_text)), 'product_title'].unique()\n",
    "        for title in similar_title:\n",
    "            if title not in recommended_titles and len(recommended_titles) < top_n:\n",
    "                recommended_titles.append(title)\n",
    "    return recommended_titles\n",
    "\n",
    "\n",
    "# Test the updated function with the same book title\n",
    "recommend_books_updated(\"Clara Callan\")"
   ]
  },
  {
   "cell_type": "code",
   "execution_count": 14,
   "metadata": {},
   "outputs": [
    {
     "data": {
      "text/plain": [
       "['Pigs in Heaven',\n",
       " 'Poisonwood Bible Edition Uk',\n",
       " 'The Game of Kings (Lymond Chronicles, 1)',\n",
       " 'The Bean Trees',\n",
       " 'Homeland and Other Stories']"
      ]
     },
     "execution_count": 14,
     "metadata": {},
     "output_type": "execute_result"
    }
   ],
   "source": [
    "\n",
    "# Test the updated function Kings the same book title\n",
    "recommend_books_updated(\"Kings\")"
   ]
  },
  {
   "cell_type": "code",
   "execution_count": null,
   "metadata": {},
   "outputs": [],
   "source": []
  }
 ],
 "metadata": {
  "kernelspec": {
   "display_name": "venv",
   "language": "python",
   "name": "python3"
  },
  "language_info": {
   "codemirror_mode": {
    "name": "ipython",
    "version": 3
   },
   "file_extension": ".py",
   "mimetype": "text/x-python",
   "name": "python",
   "nbconvert_exporter": "python",
   "pygments_lexer": "ipython3",
   "version": "3.9.12"
  }
 },
 "nbformat": 4,
 "nbformat_minor": 2
}
