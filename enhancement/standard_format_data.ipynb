{
 "cells": [
  {
   "cell_type": "code",
   "execution_count": 1,
   "metadata": {},
   "outputs": [
    {
     "name": "stderr",
     "output_type": "stream",
     "text": [
      "C:\\Users\\NelsonWang\\AppData\\Local\\Temp\\ipykernel_8252\\209608937.py:10: DtypeWarning: Columns (3) have mixed types. Specify dtype option on import or set low_memory=False.\n",
      "  books_df = pd.read_csv(\"../data/Books.csv\")\n"
     ]
    },
    {
     "data": {
      "text/html": [
       "<div>\n",
       "<style scoped>\n",
       "    .dataframe tbody tr th:only-of-type {\n",
       "        vertical-align: middle;\n",
       "    }\n",
       "\n",
       "    .dataframe tbody tr th {\n",
       "        vertical-align: top;\n",
       "    }\n",
       "\n",
       "    .dataframe thead th {\n",
       "        text-align: right;\n",
       "    }\n",
       "</style>\n",
       "<table border=\"1\" class=\"dataframe\">\n",
       "  <thead>\n",
       "    <tr style=\"text-align: right;\">\n",
       "      <th></th>\n",
       "      <th>ISBN</th>\n",
       "      <th>Book-Title</th>\n",
       "      <th>Book-Author</th>\n",
       "      <th>Year-Of-Publication</th>\n",
       "      <th>Publisher</th>\n",
       "      <th>Image-URL-S</th>\n",
       "      <th>Image-URL-M</th>\n",
       "      <th>Image-URL-L</th>\n",
       "    </tr>\n",
       "  </thead>\n",
       "  <tbody>\n",
       "    <tr>\n",
       "      <th>0</th>\n",
       "      <td>0195153448</td>\n",
       "      <td>Classical Mythology</td>\n",
       "      <td>Mark P. O. Morford</td>\n",
       "      <td>2002</td>\n",
       "      <td>Oxford University Press</td>\n",
       "      <td>http://images.amazon.com/images/P/0195153448.0...</td>\n",
       "      <td>http://images.amazon.com/images/P/0195153448.0...</td>\n",
       "      <td>http://images.amazon.com/images/P/0195153448.0...</td>\n",
       "    </tr>\n",
       "    <tr>\n",
       "      <th>1</th>\n",
       "      <td>0002005018</td>\n",
       "      <td>Clara Callan</td>\n",
       "      <td>Richard Bruce Wright</td>\n",
       "      <td>2001</td>\n",
       "      <td>HarperFlamingo Canada</td>\n",
       "      <td>http://images.amazon.com/images/P/0002005018.0...</td>\n",
       "      <td>http://images.amazon.com/images/P/0002005018.0...</td>\n",
       "      <td>http://images.amazon.com/images/P/0002005018.0...</td>\n",
       "    </tr>\n",
       "    <tr>\n",
       "      <th>2</th>\n",
       "      <td>0060973129</td>\n",
       "      <td>Decision in Normandy</td>\n",
       "      <td>Carlo D'Este</td>\n",
       "      <td>1991</td>\n",
       "      <td>HarperPerennial</td>\n",
       "      <td>http://images.amazon.com/images/P/0060973129.0...</td>\n",
       "      <td>http://images.amazon.com/images/P/0060973129.0...</td>\n",
       "      <td>http://images.amazon.com/images/P/0060973129.0...</td>\n",
       "    </tr>\n",
       "    <tr>\n",
       "      <th>3</th>\n",
       "      <td>0374157065</td>\n",
       "      <td>Flu: The Story of the Great Influenza Pandemic...</td>\n",
       "      <td>Gina Bari Kolata</td>\n",
       "      <td>1999</td>\n",
       "      <td>Farrar Straus Giroux</td>\n",
       "      <td>http://images.amazon.com/images/P/0374157065.0...</td>\n",
       "      <td>http://images.amazon.com/images/P/0374157065.0...</td>\n",
       "      <td>http://images.amazon.com/images/P/0374157065.0...</td>\n",
       "    </tr>\n",
       "    <tr>\n",
       "      <th>4</th>\n",
       "      <td>0393045218</td>\n",
       "      <td>The Mummies of Urumchi</td>\n",
       "      <td>E. J. W. Barber</td>\n",
       "      <td>1999</td>\n",
       "      <td>W. W. Norton &amp;amp; Company</td>\n",
       "      <td>http://images.amazon.com/images/P/0393045218.0...</td>\n",
       "      <td>http://images.amazon.com/images/P/0393045218.0...</td>\n",
       "      <td>http://images.amazon.com/images/P/0393045218.0...</td>\n",
       "    </tr>\n",
       "  </tbody>\n",
       "</table>\n",
       "</div>"
      ],
      "text/plain": [
       "         ISBN                                         Book-Title  \\\n",
       "0  0195153448                                Classical Mythology   \n",
       "1  0002005018                                       Clara Callan   \n",
       "2  0060973129                               Decision in Normandy   \n",
       "3  0374157065  Flu: The Story of the Great Influenza Pandemic...   \n",
       "4  0393045218                             The Mummies of Urumchi   \n",
       "\n",
       "            Book-Author Year-Of-Publication                   Publisher  \\\n",
       "0    Mark P. O. Morford                2002     Oxford University Press   \n",
       "1  Richard Bruce Wright                2001       HarperFlamingo Canada   \n",
       "2          Carlo D'Este                1991             HarperPerennial   \n",
       "3      Gina Bari Kolata                1999        Farrar Straus Giroux   \n",
       "4       E. J. W. Barber                1999  W. W. Norton &amp; Company   \n",
       "\n",
       "                                         Image-URL-S  \\\n",
       "0  http://images.amazon.com/images/P/0195153448.0...   \n",
       "1  http://images.amazon.com/images/P/0002005018.0...   \n",
       "2  http://images.amazon.com/images/P/0060973129.0...   \n",
       "3  http://images.amazon.com/images/P/0374157065.0...   \n",
       "4  http://images.amazon.com/images/P/0393045218.0...   \n",
       "\n",
       "                                         Image-URL-M  \\\n",
       "0  http://images.amazon.com/images/P/0195153448.0...   \n",
       "1  http://images.amazon.com/images/P/0002005018.0...   \n",
       "2  http://images.amazon.com/images/P/0060973129.0...   \n",
       "3  http://images.amazon.com/images/P/0374157065.0...   \n",
       "4  http://images.amazon.com/images/P/0393045218.0...   \n",
       "\n",
       "                                         Image-URL-L  \n",
       "0  http://images.amazon.com/images/P/0195153448.0...  \n",
       "1  http://images.amazon.com/images/P/0002005018.0...  \n",
       "2  http://images.amazon.com/images/P/0060973129.0...  \n",
       "3  http://images.amazon.com/images/P/0374157065.0...  \n",
       "4  http://images.amazon.com/images/P/0393045218.0...  "
      ]
     },
     "execution_count": 1,
     "metadata": {},
     "output_type": "execute_result"
    }
   ],
   "source": [
    "# Lets start by converting book, rating users into the appropriate rows and cols.\n",
    "\n",
    "import pandas as pd\n",
    "import numpy as np\n",
    "import matplotlib.pyplot as plt\n",
    "\n",
    "\n",
    "# Load the data\n",
    "\n",
    "books_df = pd.read_csv(\"../data/Books.csv\")\n",
    "users_df = pd.read_csv(\"../data/Users.csv\")\n",
    "ratings_df = pd.read_csv(\"../data/ratings.csv\")\n",
    "\n",
    "books_df.head()"
   ]
  },
  {
   "cell_type": "code",
   "execution_count": 2,
   "metadata": {},
   "outputs": [
    {
     "data": {
      "text/plain": [
       "Index(['ISBN', 'Book-Title', 'Book-Author', 'Year-Of-Publication', 'Publisher',\n",
       "       'Image-URL-S', 'Image-URL-M', 'Image-URL-L'],\n",
       "      dtype='object')"
      ]
     },
     "execution_count": 2,
     "metadata": {},
     "output_type": "execute_result"
    }
   ],
   "source": [
    "books_df.columns"
   ]
  },
  {
   "cell_type": "code",
   "execution_count": 3,
   "metadata": {},
   "outputs": [
    {
     "data": {
      "text/html": [
       "<div>\n",
       "<style scoped>\n",
       "    .dataframe tbody tr th:only-of-type {\n",
       "        vertical-align: middle;\n",
       "    }\n",
       "\n",
       "    .dataframe tbody tr th {\n",
       "        vertical-align: top;\n",
       "    }\n",
       "\n",
       "    .dataframe thead th {\n",
       "        text-align: right;\n",
       "    }\n",
       "</style>\n",
       "<table border=\"1\" class=\"dataframe\">\n",
       "  <thead>\n",
       "    <tr style=\"text-align: right;\">\n",
       "      <th></th>\n",
       "      <th>id</th>\n",
       "      <th>product_title</th>\n",
       "      <th>product_image</th>\n",
       "      <th>product_price</th>\n",
       "      <th>product_soup</th>\n",
       "      <th>product_tags</th>\n",
       "    </tr>\n",
       "  </thead>\n",
       "  <tbody>\n",
       "    <tr>\n",
       "      <th>0</th>\n",
       "      <td>0195153448</td>\n",
       "      <td>Classical Mythology</td>\n",
       "      <td>http://images.amazon.com/images/P/0195153448.0...</td>\n",
       "      <td>NaN</td>\n",
       "      <td>Classical Mythology Mark P. O. Morford Oxford ...</td>\n",
       "      <td>NaN</td>\n",
       "    </tr>\n",
       "    <tr>\n",
       "      <th>1</th>\n",
       "      <td>0002005018</td>\n",
       "      <td>Clara Callan</td>\n",
       "      <td>http://images.amazon.com/images/P/0002005018.0...</td>\n",
       "      <td>NaN</td>\n",
       "      <td>Clara Callan Richard Bruce Wright HarperFlamin...</td>\n",
       "      <td>NaN</td>\n",
       "    </tr>\n",
       "    <tr>\n",
       "      <th>2</th>\n",
       "      <td>0060973129</td>\n",
       "      <td>Decision in Normandy</td>\n",
       "      <td>http://images.amazon.com/images/P/0060973129.0...</td>\n",
       "      <td>NaN</td>\n",
       "      <td>Decision in Normandy Carlo D'Este HarperPerennial</td>\n",
       "      <td>NaN</td>\n",
       "    </tr>\n",
       "    <tr>\n",
       "      <th>3</th>\n",
       "      <td>0374157065</td>\n",
       "      <td>Flu: The Story of the Great Influenza Pandemic...</td>\n",
       "      <td>http://images.amazon.com/images/P/0374157065.0...</td>\n",
       "      <td>NaN</td>\n",
       "      <td>Flu: The Story of the Great Influenza Pandemic...</td>\n",
       "      <td>NaN</td>\n",
       "    </tr>\n",
       "    <tr>\n",
       "      <th>4</th>\n",
       "      <td>0393045218</td>\n",
       "      <td>The Mummies of Urumchi</td>\n",
       "      <td>http://images.amazon.com/images/P/0393045218.0...</td>\n",
       "      <td>NaN</td>\n",
       "      <td>The Mummies of Urumchi E. J. W. Barber W. W. N...</td>\n",
       "      <td>NaN</td>\n",
       "    </tr>\n",
       "  </tbody>\n",
       "</table>\n",
       "</div>"
      ],
      "text/plain": [
       "           id                                      product_title  \\\n",
       "0  0195153448                                Classical Mythology   \n",
       "1  0002005018                                       Clara Callan   \n",
       "2  0060973129                               Decision in Normandy   \n",
       "3  0374157065  Flu: The Story of the Great Influenza Pandemic...   \n",
       "4  0393045218                             The Mummies of Urumchi   \n",
       "\n",
       "                                       product_image  product_price  \\\n",
       "0  http://images.amazon.com/images/P/0195153448.0...            NaN   \n",
       "1  http://images.amazon.com/images/P/0002005018.0...            NaN   \n",
       "2  http://images.amazon.com/images/P/0060973129.0...            NaN   \n",
       "3  http://images.amazon.com/images/P/0374157065.0...            NaN   \n",
       "4  http://images.amazon.com/images/P/0393045218.0...            NaN   \n",
       "\n",
       "                                        product_soup  product_tags  \n",
       "0  Classical Mythology Mark P. O. Morford Oxford ...           NaN  \n",
       "1  Clara Callan Richard Bruce Wright HarperFlamin...           NaN  \n",
       "2  Decision in Normandy Carlo D'Este HarperPerennial           NaN  \n",
       "3  Flu: The Story of the Great Influenza Pandemic...           NaN  \n",
       "4  The Mummies of Urumchi E. J. W. Barber W. W. N...           NaN  "
      ]
     },
     "execution_count": 3,
     "metadata": {},
     "output_type": "execute_result"
    }
   ],
   "source": [
    "# Convert as folllowing standarized format:\n",
    "\n",
    "\"\"\"\n",
    "\n",
    "products:\n",
    "\n",
    "| name           | type | description                               |\n",
    "| -------------- | ---- | ----------------------------------------- |\n",
    "| id             | str  | Unique identifier of the product          |\n",
    "| product_title  | str  | Title of the product                      |\n",
    "| product_image  | str  | Image of the product                      |\n",
    "| product_price  | int  | Price of the product (if available)  |\n",
    "| product_soup   | str  | All Aggregated Description of the product |\n",
    "| product_tags   | str  | List of tags of the product, sep by comma |\n",
    "\n",
    "From:\n",
    "\n",
    "Index(['ISBN', 'Book-Title', 'Book-Author', 'Year-Of-Publication', 'Publisher',\n",
    "       'Image-URL-S', 'Image-URL-M', 'Image-URL-L'],\n",
    "\n",
    "\"\"\"\n",
    "\n",
    "products_books = books_df.copy()\n",
    "products_books['id'] = products_books[\"ISBN\"]\n",
    "products_books[\"product_title\"] = products_books[\"Book-Title\"]\n",
    "products_books[\"product_image\"] = products_books[\"Image-URL-M\"]\n",
    "products_books[\"product_price\"] = np.nan\n",
    "products_books[\"product_soup\"] = products_books[\"Book-Title\"] + \" \" + products_books[\"Book-Author\"] + \" \" + products_books[\"Publisher\"]\n",
    "products_books[\"product_tags\"] = np.nan\n",
    "\n",
    "\n",
    "products_books = products_books[[\"id\", \"product_title\", \"product_image\", \"product_price\", \"product_soup\", \"product_tags\"]]\n",
    "products_books.head()"
   ]
  },
  {
   "cell_type": "code",
   "execution_count": 4,
   "metadata": {},
   "outputs": [
    {
     "data": {
      "text/plain": [
       "Index(['User-ID', 'ISBN', 'Book-Rating'], dtype='object')"
      ]
     },
     "execution_count": 4,
     "metadata": {},
     "output_type": "execute_result"
    }
   ],
   "source": [
    "ratings_df.columns"
   ]
  },
  {
   "cell_type": "code",
   "execution_count": 5,
   "metadata": {},
   "outputs": [
    {
     "data": {
      "text/html": [
       "<div>\n",
       "<style scoped>\n",
       "    .dataframe tbody tr th:only-of-type {\n",
       "        vertical-align: middle;\n",
       "    }\n",
       "\n",
       "    .dataframe tbody tr th {\n",
       "        vertical-align: top;\n",
       "    }\n",
       "\n",
       "    .dataframe thead th {\n",
       "        text-align: right;\n",
       "    }\n",
       "</style>\n",
       "<table border=\"1\" class=\"dataframe\">\n",
       "  <thead>\n",
       "    <tr style=\"text-align: right;\">\n",
       "      <th></th>\n",
       "      <th>id</th>\n",
       "      <th>user_id</th>\n",
       "      <th>product_id</th>\n",
       "      <th>rate</th>\n",
       "    </tr>\n",
       "  </thead>\n",
       "  <tbody>\n",
       "    <tr>\n",
       "      <th>0</th>\n",
       "      <td>276725-034545104X[ 8105  1275 44453 ... 27370 ...</td>\n",
       "      <td>276725</td>\n",
       "      <td>034545104X</td>\n",
       "      <td>0</td>\n",
       "    </tr>\n",
       "    <tr>\n",
       "      <th>1</th>\n",
       "      <td>276726-0155061224[ 8105  1275 44453 ... 27370 ...</td>\n",
       "      <td>276726</td>\n",
       "      <td>0155061224</td>\n",
       "      <td>5</td>\n",
       "    </tr>\n",
       "    <tr>\n",
       "      <th>2</th>\n",
       "      <td>276727-0446520802[ 8105  1275 44453 ... 27370 ...</td>\n",
       "      <td>276727</td>\n",
       "      <td>0446520802</td>\n",
       "      <td>0</td>\n",
       "    </tr>\n",
       "    <tr>\n",
       "      <th>3</th>\n",
       "      <td>276729-052165615X[ 8105  1275 44453 ... 27370 ...</td>\n",
       "      <td>276729</td>\n",
       "      <td>052165615X</td>\n",
       "      <td>3</td>\n",
       "    </tr>\n",
       "    <tr>\n",
       "      <th>4</th>\n",
       "      <td>276729-0521795028[ 8105  1275 44453 ... 27370 ...</td>\n",
       "      <td>276729</td>\n",
       "      <td>0521795028</td>\n",
       "      <td>6</td>\n",
       "    </tr>\n",
       "  </tbody>\n",
       "</table>\n",
       "</div>"
      ],
      "text/plain": [
       "                                                  id  user_id  product_id  \\\n",
       "0  276725-034545104X[ 8105  1275 44453 ... 27370 ...   276725  034545104X   \n",
       "1  276726-0155061224[ 8105  1275 44453 ... 27370 ...   276726  0155061224   \n",
       "2  276727-0446520802[ 8105  1275 44453 ... 27370 ...   276727  0446520802   \n",
       "3  276729-052165615X[ 8105  1275 44453 ... 27370 ...   276729  052165615X   \n",
       "4  276729-0521795028[ 8105  1275 44453 ... 27370 ...   276729  0521795028   \n",
       "\n",
       "   rate  \n",
       "0     0  \n",
       "1     5  \n",
       "2     0  \n",
       "3     3  \n",
       "4     6  "
      ]
     },
     "execution_count": 5,
     "metadata": {},
     "output_type": "execute_result"
    }
   ],
   "source": [
    "# Convert Transactions as standarized format\n",
    "\n",
    "\n",
    "\"\"\"\n",
    "To: \n",
    "| name       | type | description                          |\n",
    "| ---------- | ---- | ------------------------------------ |\n",
    "| id         | str  | Unique identifier of the transaction |\n",
    "| user_id    | str  | Unique identifier of the user        |\n",
    "| product_id | str  | Unique identifier of the product     |\n",
    "| rate       | int  | Positive association rating          |\n",
    "\n",
    "From: ratings_df.columns\n",
    "Index(['User-ID', 'ISBN', 'Book-Rating'], dtype='object')\n",
    "\n",
    "\"\"\"\n",
    "\n",
    "transactions_books = ratings_df.copy()\n",
    "\n",
    "random_id = np.random.randint(0, 100000, len(transactions_books))\n",
    "transactions_books[\"id\"] = transactions_books[\"User-ID\"].astype(str) + \"-\" + transactions_books[\"ISBN\"] + str(random_id)\n",
    "transactions_books[\"user_id\"] = transactions_books[\"User-ID\"]\n",
    "transactions_books[\"product_id\"] = transactions_books[\"ISBN\"]\n",
    "transactions_books[\"rate\"] = transactions_books[\"Book-Rating\"]\n",
    "\n",
    "transactions_books = transactions_books[[\"id\", \"user_id\", \"product_id\", \"rate\"]]\n",
    "\n",
    "transactions_books.head()"
   ]
  },
  {
   "cell_type": "code",
   "execution_count": 6,
   "metadata": {},
   "outputs": [],
   "source": [
    "\n",
    "# remove products where under x interactions in total.\n",
    "\n",
    "def remove_under_interactions(df, col_name, threshhold=10):\n",
    "    # Find id of products where total aggregated mentions in transactiosn is less than 50.\n",
    "    counts = df[col_name].value_counts()\n",
    "    df = df[df[col_name].isin(counts[counts > threshhold].index)]\n",
    "    return df\n",
    "\n",
    "\n"
   ]
  },
  {
   "cell_type": "code",
   "execution_count": 7,
   "metadata": {},
   "outputs": [
    {
     "name": "stdout",
     "output_type": "stream",
     "text": [
      "1149780\n",
      "unique products: 340556\n",
      "unique users: 105283\n"
     ]
    }
   ],
   "source": [
    "print(len(transactions_books))\n",
    "print('unique products:', len(transactions_books[\"product_id\"].unique()))\n",
    "print('unique users:', len(transactions_books[\"user_id\"].unique()))\n",
    "\n",
    "transactions = transactions_books"
   ]
  },
  {
   "cell_type": "code",
   "execution_count": 21,
   "metadata": {},
   "outputs": [
    {
     "name": "stdout",
     "output_type": "stream",
     "text": [
      "20 764346\n",
      "30 835391\n",
      "40 881536\n",
      "50 915487\n",
      "60 942827\n",
      "70 965940\n",
      "80 984400\n",
      "90 998940\n",
      "100 1012319\n",
      "110 1023905\n",
      "120 1031724\n",
      "130 1040761\n",
      "140 1049828\n",
      "150 1057114\n",
      "160 1062239\n",
      "170 1069015\n",
      "180 1074810\n",
      "190 1079976\n"
     ]
    },
    {
     "data": {
      "image/png": "[encoded data removed]",
      "text/plain": [
       "<Figure size 640x480 with 1 Axes>"
      ]
     },
     "metadata": {},
     "output_type": "display_data"
    }
   ],
   "source": [
    "# Chart how many books are removed if treshhold increases from 20 - 200 by 10\n",
    "\n",
    "import matplotlib.pyplot as plt\n",
    "\n",
    "y_data = []\n",
    "for i in range(20, 200, 10):\n",
    "    transactions = remove_under_interactions(transactions_books, \"product_id\", i)\n",
    "    print(i, len(transactions_books) - len(transactions)) \n",
    "    y_data.append(len(transactions_books) - len(transactions))\n",
    "\n",
    "plt.plot(range(20, 200, 10), y_data)\n",
    "plt.xlabel(\"Treshhold\")\n",
    "plt.ylabel(\"Products removed\")\n",
    "plt.show()"
   ]
  },
  {
   "cell_type": "code",
   "execution_count": 23,
   "metadata": {},
   "outputs": [
    {
     "name": "stdout",
     "output_type": "stream",
     "text": [
      "Start count of transactions 1149780\n",
      "Unique books:  340556\n",
      "Unique users:  105283\n",
      "final count of transactions 390021\n",
      "Unique books:  16145\n",
      "Unique users:  6657\n"
     ]
    }
   ],
   "source": [
    "# Lets keep it at 30 as a treshhold.\n",
    "\n",
    "prev_transaction_count = -1\n",
    "transactions = transactions_books\n",
    "print('Start count of transactions', len(transactions_books))\n",
    "print(\"Unique books: \", len(transactions[\"product_id\"].unique()))\n",
    "print(\"Unique users: \", len(transactions[\"user_id\"].unique()))\n",
    "\n",
    "while(prev_transaction_count != len(transactions)):\n",
    "    transactions = remove_under_interactions(transactions, \"product_id\", 10)\n",
    "    transactions = remove_under_interactions(transactions, \"user_id\", 10)\n",
    "    prev_transaction_count = len(transactions)\n",
    "\n",
    "print('final count of transactions', len(transactions) )\n",
    "print(\"Unique books: \", len(transactions[\"product_id\"].unique()))\n",
    "print(\"Unique users: \", len(transactions[\"user_id\"].unique()))"
   ]
  },
  {
   "cell_type": "code",
   "execution_count": 24,
   "metadata": {},
   "outputs": [],
   "source": [
    "# Save.\n",
    "\n",
    "products_books = products_books[products_books[\"id\"].isin(transactions[\"product_id\"].unique())]\n",
    "products_books.to_csv(\"../data/products_books_v1.csv\", index=False)\n",
    "\n",
    "transactions_books = transactions_books[transactions_books[\"product_id\"].isin(products_books[\"id\"])]\n",
    "transactions_books.to_csv(\"../data/transactions_books_V1.csv\", index=False)"
   ]
  },
  {
   "cell_type": "code",
   "execution_count": 10,
   "metadata": {},
   "outputs": [],
   "source": [
    "\n"
   ]
  },
  {
   "cell_type": "code",
   "execution_count": null,
   "metadata": {},
   "outputs": [],
   "source": []
  }
 ],
 "metadata": {
  "kernelspec": {
   "display_name": "venv",
   "language": "python",
   "name": "python3"
  },
  "language_info": {
   "codemirror_mode": {
    "name": "ipython",
    "version": 3
   },
   "file_extension": ".py",
   "mimetype": "text/x-python",
   "name": "python",
   "nbconvert_exporter": "python",
   "pygments_lexer": "ipython3",
   "version": "3.9.12"
  }
 },
 "nbformat": 4,
 "nbformat_minor": 2
}
