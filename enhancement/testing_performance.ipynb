{
 "cells": [
  {
   "cell_type": "code",
   "execution_count": 1,
   "metadata": {},
   "outputs": [],
   "source": [
    "import pandas as pd\n",
    "from customrec_engine import engines_list, engines, RecommendationAbstract\n",
    "import pprint\n",
    "from sklearn.model_selection import train_test_split\n",
    "\n",
    "product_datas = [{\n",
    "    \"data_context\": \"books\",\n",
    "    \"product_filepath\": \"data/products_books_v1_10_10.csv\",\n",
    "    \"transactions_filepath\": \"data/transactions_books_v1_10_10.csv\",\n",
    "    \"features\": [\"product_title\", \"product_image\", \"product_soup\", \"product_images\"],\n",
    "    \"version\": \"1.0\",\n",
    "    \"unique_name\": \"_books_v1_10_10\",\n",
    "}]\n"
   ]
  },
  {
   "cell_type": "code",
   "execution_count": 5,
   "metadata": {},
   "outputs": [
    {
     "name": "stdout",
     "output_type": "stream",
     "text": [
      "{'data_context': 'books',\n",
      " 'features': ['product_title',\n",
      "              'product_image',\n",
      "              'product_soup',\n",
      "              'product_images'],\n",
      " 'product_filepath': 'data/products_books_v1_10_10.csv',\n",
      " 'transactions_filepath': 'data/transactions_books_v1_10_10.csv',\n",
      " 'unique_name': '_books_v1_10_10',\n",
      " 'version': '1.0'}\n",
      "looking at ../data/products_books_v1_10_10.csv\n",
      "user_transactions 6\n",
      "transactiondf (100, 4)\n",
      "dict_values([['e84cbad6-c5a7-49b1-9eb2-558a648998d6', 'e84cbad6-c5a7-49b1-9eb2-558a648998d6', 'e84cbad6-c5a7-49b1-9eb2-558a648998d6', 'e84cbad6-c5a7-49b1-9eb2-558a648998d6', 'e84cbad6-c5a7-49b1-9eb2-558a648998d6', 'e84cbad6-c5a7-49b1-9eb2-558a648998d6', 'e84cbad6-c5a7-49b1-9eb2-558a648998d6', 'e84cbad6-c5a7-49b1-9eb2-558a648998d6', 'e84cbad6-c5a7-49b1-9eb2-558a648998d6', 'e84cbad6-c5a7-49b1-9eb2-558a648998d6', 'e84cbad6-c5a7-49b1-9eb2-558a648998d6', 'e84cbad6-c5a7-49b1-9eb2-558a648998d6', 'e84cbad6-c5a7-49b1-9eb2-558a648998d6'], ['e84cbad6-c5a7-49b1-9eb2-558a648998d6', 'e84cbad6-c5a7-49b1-9eb2-558a648998d6', 'e84cbad6-c5a7-49b1-9eb2-558a648998d6', 'e84cbad6-c5a7-49b1-9eb2-558a648998d6', 'e84cbad6-c5a7-49b1-9eb2-558a648998d6', 'e84cbad6-c5a7-49b1-9eb2-558a648998d6', 'e84cbad6-c5a7-49b1-9eb2-558a648998d6', 'e84cbad6-c5a7-49b1-9eb2-558a648998d6', 'e84cbad6-c5a7-49b1-9eb2-558a648998d6', 'e84cbad6-c5a7-49b1-9eb2-558a648998d6', 'e84cbad6-c5a7-49b1-9eb2-558a648998d6', 'e84cbad6-c5a7-49b1-9eb2-558a648998d6', 'e84cbad6-c5a7-49b1-9eb2-558a648998d6', 'e84cbad6-c5a7-49b1-9eb2-558a648998d6', 'e84cbad6-c5a7-49b1-9eb2-558a648998d6', 'e84cbad6-c5a7-49b1-9eb2-558a648998d6', 'e84cbad6-c5a7-49b1-9eb2-558a648998d6', 'e84cbad6-c5a7-49b1-9eb2-558a648998d6', 'e84cbad6-c5a7-49b1-9eb2-558a648998d6', 'e84cbad6-c5a7-49b1-9eb2-558a648998d6', 'e84cbad6-c5a7-49b1-9eb2-558a648998d6', 'e84cbad6-c5a7-49b1-9eb2-558a648998d6', 'e84cbad6-c5a7-49b1-9eb2-558a648998d6', 'e84cbad6-c5a7-49b1-9eb2-558a648998d6', 'e84cbad6-c5a7-49b1-9eb2-558a648998d6', 'e84cbad6-c5a7-49b1-9eb2-558a648998d6', 'e84cbad6-c5a7-49b1-9eb2-558a648998d6', 'e84cbad6-c5a7-49b1-9eb2-558a648998d6', 'e84cbad6-c5a7-49b1-9eb2-558a648998d6', 'e84cbad6-c5a7-49b1-9eb2-558a648998d6'], ['e84cbad6-c5a7-49b1-9eb2-558a648998d6', 'e84cbad6-c5a7-49b1-9eb2-558a648998d6', 'e84cbad6-c5a7-49b1-9eb2-558a648998d6', 'e84cbad6-c5a7-49b1-9eb2-558a648998d6', 'e84cbad6-c5a7-49b1-9eb2-558a648998d6', 'e84cbad6-c5a7-49b1-9eb2-558a648998d6', 'e84cbad6-c5a7-49b1-9eb2-558a648998d6', 'e84cbad6-c5a7-49b1-9eb2-558a648998d6', 'e84cbad6-c5a7-49b1-9eb2-558a648998d6', 'e84cbad6-c5a7-49b1-9eb2-558a648998d6', 'e84cbad6-c5a7-49b1-9eb2-558a648998d6', 'e84cbad6-c5a7-49b1-9eb2-558a648998d6', 'e84cbad6-c5a7-49b1-9eb2-558a648998d6', 'e84cbad6-c5a7-49b1-9eb2-558a648998d6', 'e84cbad6-c5a7-49b1-9eb2-558a648998d6', 'e84cbad6-c5a7-49b1-9eb2-558a648998d6', 'e84cbad6-c5a7-49b1-9eb2-558a648998d6', 'e84cbad6-c5a7-49b1-9eb2-558a648998d6', 'e84cbad6-c5a7-49b1-9eb2-558a648998d6'], ['e84cbad6-c5a7-49b1-9eb2-558a648998d6', 'e84cbad6-c5a7-49b1-9eb2-558a648998d6', 'e84cbad6-c5a7-49b1-9eb2-558a648998d6', 'e84cbad6-c5a7-49b1-9eb2-558a648998d6', 'e84cbad6-c5a7-49b1-9eb2-558a648998d6', 'e84cbad6-c5a7-49b1-9eb2-558a648998d6', 'e84cbad6-c5a7-49b1-9eb2-558a648998d6', 'e84cbad6-c5a7-49b1-9eb2-558a648998d6', 'e84cbad6-c5a7-49b1-9eb2-558a648998d6', 'e84cbad6-c5a7-49b1-9eb2-558a648998d6', 'e84cbad6-c5a7-49b1-9eb2-558a648998d6', 'e84cbad6-c5a7-49b1-9eb2-558a648998d6'], ['e84cbad6-c5a7-49b1-9eb2-558a648998d6', 'e84cbad6-c5a7-49b1-9eb2-558a648998d6', 'e84cbad6-c5a7-49b1-9eb2-558a648998d6', 'e84cbad6-c5a7-49b1-9eb2-558a648998d6', 'e84cbad6-c5a7-49b1-9eb2-558a648998d6', 'e84cbad6-c5a7-49b1-9eb2-558a648998d6', 'e84cbad6-c5a7-49b1-9eb2-558a648998d6', 'e84cbad6-c5a7-49b1-9eb2-558a648998d6', 'e84cbad6-c5a7-49b1-9eb2-558a648998d6', 'e84cbad6-c5a7-49b1-9eb2-558a648998d6', 'e84cbad6-c5a7-49b1-9eb2-558a648998d6', 'e84cbad6-c5a7-49b1-9eb2-558a648998d6', 'e84cbad6-c5a7-49b1-9eb2-558a648998d6', 'e84cbad6-c5a7-49b1-9eb2-558a648998d6', 'e84cbad6-c5a7-49b1-9eb2-558a648998d6', 'e84cbad6-c5a7-49b1-9eb2-558a648998d6', 'e84cbad6-c5a7-49b1-9eb2-558a648998d6', 'e84cbad6-c5a7-49b1-9eb2-558a648998d6', 'e84cbad6-c5a7-49b1-9eb2-558a648998d6', 'e84cbad6-c5a7-49b1-9eb2-558a648998d6', 'e84cbad6-c5a7-49b1-9eb2-558a648998d6', 'e84cbad6-c5a7-49b1-9eb2-558a648998d6', 'e84cbad6-c5a7-49b1-9eb2-558a648998d6'], ['e84cbad6-c5a7-49b1-9eb2-558a648998d6', 'e84cbad6-c5a7-49b1-9eb2-558a648998d6', 'e84cbad6-c5a7-49b1-9eb2-558a648998d6']])\n",
      "Training set shape: 4\n",
      "Testing set shape: 2\n",
      "[[1. 0. 0. ... 0. 1. 0.]\n",
      " [0. 0. 0. ... 0. 0. 0.]\n",
      " [0. 0. 0. ... 0. 0. 0.]\n",
      " ...\n",
      " [0. 0. 0. ... 0. 0. 0.]\n",
      " [1. 0. 0. ... 0. 1. 0.]\n",
      " [0. 0. 0. ... 0. 0. 0.]]\n",
      "=========  13 ========= 9 4\n",
      "attempting past_transactions ['e84cbad6-c5a7-49b1-9eb2-558a648998d6', 'e84cbad6-c5a7-49b1-9eb2-558a648998d6', 'e84cbad6-c5a7-49b1-9eb2-558a648998d6', 'e84cbad6-c5a7-49b1-9eb2-558a648998d6', 'e84cbad6-c5a7-49b1-9eb2-558a648998d6', 'e84cbad6-c5a7-49b1-9eb2-558a648998d6', 'e84cbad6-c5a7-49b1-9eb2-558a648998d6', 'e84cbad6-c5a7-49b1-9eb2-558a648998d6', 'e84cbad6-c5a7-49b1-9eb2-558a648998d6']\n",
      "transactions received ['e84cbad6-c5a7-49b1-9eb2-558a648998d6', 'e84cbad6-c5a7-49b1-9eb2-558a648998d6', 'e84cbad6-c5a7-49b1-9eb2-558a648998d6', 'e84cbad6-c5a7-49b1-9eb2-558a648998d6', 'e84cbad6-c5a7-49b1-9eb2-558a648998d6', 'e84cbad6-c5a7-49b1-9eb2-558a648998d6', 'e84cbad6-c5a7-49b1-9eb2-558a648998d6', 'e84cbad6-c5a7-49b1-9eb2-558a648998d6', 'e84cbad6-c5a7-49b1-9eb2-558a648998d6']\n"
     ]
    },
    {
     "ename": "IndexError",
     "evalue": "index 0 is out of bounds for axis 0 with size 0",
     "output_type": "error",
     "traceback": [
      "\u001b[1;31m---------------------------------------------------------------------------\u001b[0m",
      "\u001b[1;31mIndexError\u001b[0m                                Traceback (most recent call last)",
      "Cell \u001b[1;32mIn[5], line 51\u001b[0m\n\u001b[0;32m     49\u001b[0m \u001b[38;5;28mprint\u001b[39m(\u001b[38;5;124m'\u001b[39m\u001b[38;5;124m========= \u001b[39m\u001b[38;5;124m'\u001b[39m, \u001b[38;5;28mlen\u001b[39m(user_transactions), \u001b[38;5;124m'\u001b[39m\u001b[38;5;124m=========\u001b[39m\u001b[38;5;124m'\u001b[39m, \u001b[38;5;28mlen\u001b[39m(past_transactions), \u001b[38;5;28mlen\u001b[39m(pred_transactions))\n\u001b[0;32m     50\u001b[0m \u001b[38;5;28mprint\u001b[39m(\u001b[38;5;124m'\u001b[39m\u001b[38;5;124mattempting past_transactions\u001b[39m\u001b[38;5;124m'\u001b[39m, past_transactions)\n\u001b[1;32m---> 51\u001b[0m recs \u001b[38;5;241m=\u001b[39m \u001b[43mrec_engine\u001b[49m\u001b[38;5;241;43m.\u001b[39;49m\u001b[43mrecommend_from_past\u001b[49m\u001b[43m(\u001b[49m\u001b[43mpast_transactions\u001b[49m\u001b[43m)\u001b[49m\n\u001b[0;32m     52\u001b[0m \u001b[38;5;66;03m# pprint.pprint(recs)\u001b[39;00m\n",
      "File \u001b[1;32me:\\wangn\\Documents\\GitHub\\recommendation-systems-exploration\\enhancement\\customrec_engine.py:181\u001b[0m, in \u001b[0;36mCosineSimilarityRecommender.recommend_from_past\u001b[1;34m(self, transactions, n)\u001b[0m\n\u001b[0;32m    179\u001b[0m rec: List[\u001b[38;5;28mtuple\u001b[39m[\u001b[38;5;28mdict\u001b[39m, \u001b[38;5;28mfloat\u001b[39m]] \u001b[38;5;241m=\u001b[39m []\n\u001b[0;32m    180\u001b[0m \u001b[38;5;28;01mfor\u001b[39;00m transaction \u001b[38;5;129;01min\u001b[39;00m transactions:\n\u001b[1;32m--> 181\u001b[0m     rec\u001b[38;5;241m.\u001b[39mextend(\u001b[38;5;28;43mself\u001b[39;49m\u001b[38;5;241;43m.\u001b[39;49m\u001b[43mrecommend_from_single\u001b[49m\u001b[43m(\u001b[49m\u001b[43mtransaction\u001b[49m\u001b[43m)\u001b[49m)\n\u001b[0;32m    183\u001b[0m \u001b[38;5;66;03m# Sort by the confidence (second parameter of tuple)\u001b[39;00m\n\u001b[0;32m    184\u001b[0m sorted_rec: List[\u001b[38;5;28mtuple\u001b[39m[\u001b[38;5;28mdict\u001b[39m, \u001b[38;5;28mfloat\u001b[39m]] \u001b[38;5;241m=\u001b[39m \u001b[38;5;28msorted\u001b[39m(rec, key\u001b[38;5;241m=\u001b[39m\u001b[38;5;28;01mlambda\u001b[39;00m x: x[\u001b[38;5;241m1\u001b[39m], reverse\u001b[38;5;241m=\u001b[39m\u001b[38;5;28;01mTrue\u001b[39;00m)\n",
      "File \u001b[1;32me:\\wangn\\Documents\\GitHub\\recommendation-systems-exploration\\enhancement\\customrec_engine.py:156\u001b[0m, in \u001b[0;36mCosineSimilarityRecommender.recommend_from_single\u001b[1;34m(self, product_id, n)\u001b[0m\n\u001b[0;32m    153\u001b[0m \u001b[38;5;28;01mdef\u001b[39;00m \u001b[38;5;21mrecommend_from_single\u001b[39m(\u001b[38;5;28mself\u001b[39m, product_id, n\u001b[38;5;241m=\u001b[39m\u001b[38;5;241m5\u001b[39m) \u001b[38;5;241m-\u001b[39m\u001b[38;5;241m>\u001b[39m List[\u001b[38;5;28mtuple\u001b[39m[\u001b[38;5;28mdict\u001b[39m, \u001b[38;5;28mfloat\u001b[39m]]:\n\u001b[0;32m    154\u001b[0m     \u001b[38;5;66;03m# Find the index of the product_id in the DataFrame\u001b[39;00m\n\u001b[0;32m    155\u001b[0m     \u001b[38;5;66;03m# print('product_id', product_id)\u001b[39;00m\n\u001b[1;32m--> 156\u001b[0m     index \u001b[38;5;241m=\u001b[39m \u001b[43mnp\u001b[49m\u001b[38;5;241;43m.\u001b[39;49m\u001b[43mwhere\u001b[49m\u001b[43m(\u001b[49m\u001b[38;5;28;43mself\u001b[39;49m\u001b[38;5;241;43m.\u001b[39;49m\u001b[43mproducts\u001b[49m\u001b[43m[\u001b[49m\u001b[38;5;124;43m'\u001b[39;49m\u001b[38;5;124;43mid\u001b[39;49m\u001b[38;5;124;43m'\u001b[39;49m\u001b[43m]\u001b[49m\u001b[43m \u001b[49m\u001b[38;5;241;43m==\u001b[39;49m\u001b[43m \u001b[49m\u001b[43mproduct_id\u001b[49m\u001b[43m)\u001b[49m\u001b[43m[\u001b[49m\u001b[38;5;241;43m0\u001b[39;49m\u001b[43m]\u001b[49m\u001b[43m[\u001b[49m\u001b[38;5;241;43m0\u001b[39;49m\u001b[43m]\u001b[49m\n\u001b[0;32m    158\u001b[0m     similar_products \u001b[38;5;241m=\u001b[39m []\n\u001b[0;32m    159\u001b[0m     \u001b[38;5;66;03m# Get similarity scores for the product at the found index\u001b[39;00m\n",
      "\u001b[1;31mIndexError\u001b[0m: index 0 is out of bounds for axis 0 with size 0"
     ]
    }
   ],
   "source": [
    "from sklearn.metrics import accuracy_score, precision_score, recall_score, f1_score, confusion_matrix, roc_auc_score\n",
    "from sklearn.metrics import mean_absolute_error, mean_squared_error, r2_score\n",
    "\n",
    "results = {} # {data_context: [{strategy_name, accuracy, precision, recall, f1_score, are_roc}]}\n",
    "\n",
    "for product_data in product_datas:\n",
    "    pprint.pprint(product_data)\n",
    "    print(\"looking at\", \"../\" + product_data[\"product_filepath\"])\n",
    "\n",
    "    productdf =  pd.read_csv(\"../\" + product_data[\"product_filepath\"])\n",
    "    transactiondf = pd.read_csv(\"../\" + product_data[\"transactions_filepath\"])\n",
    "    \n",
    "    training_df_arr = []\n",
    "    \n",
    "    \n",
    "    # join transactions by same user_id. into a dict of user_id: [transactions]\n",
    "    user_transactions = {}\n",
    "    for row in transactiondf[:100].iterrows():\n",
    "        training_df_arr.append(row[1])\n",
    "        user_id = row[1][\"user_id\"]\n",
    "        if user_id not in user_transactions:\n",
    "            user_transactions[user_id] = []\n",
    "        user_transactions[user_id].append(row[1]['id'])\n",
    "    \n",
    "    # create df from transactionsdf\n",
    "    transactiondf = pd.DataFrame(training_df_arr)\n",
    "    \n",
    "    print(\"user_transactions\", len(user_transactions))\n",
    "    print(\"transactiondf\", transactiondf.shape)\n",
    "    \n",
    "    print(user_transactions.values())\n",
    "    \n",
    "    # split trainning and testing transactions\n",
    "    past_transactions, test_transactions = train_test_split(list(user_transactions.values()), test_size=.2, random_state=42)\n",
    "    # Display the shapes of the resulting DataFrames\n",
    "    print(\"Training set shape:\", len(past_transactions))\n",
    "    print(\"Testing set shape:\", len(test_transactions))\n",
    "    \n",
    "    # for each engine rec. Train, test:\n",
    "    for rec_engine_class in engines_list[:1]:\n",
    "        rec_engine:RecommendationAbstract  = rec_engine_class(products=productdf, product_data=product_data, transactions = transactiondf)\n",
    "        rec_engine.train(transactiondf, auto_save=False)\n",
    "        print(rec_engine.sim_score)\n",
    "        \n",
    "        for user_transactions in test_transactions:\n",
    "            # Start test setup.\n",
    "            # split in 3/4 if more than 4 transactions, or 1/2 if less than 4 transactions\n",
    "            past_transactions, pred_transactions = train_test_split(user_transactions, test_size=.25, random_state=42)\n",
    "            print('========= ', len(user_transactions), '=========', len(past_transactions), len(pred_transactions))\n",
    "            print('attempting past_transactions', past_transactions)\n",
    "            recs = rec_engine.recommend_from_past(past_transactions)\n",
    "            # pprint.pprint(recs)\n",
    "            \n",
    "        \n",
    "    \n",
    "    \n",
    "    \n"
   ]
  },
  {
   "cell_type": "code",
   "execution_count": null,
   "metadata": {},
   "outputs": [],
   "source": []
  }
 ],
 "metadata": {
  "kernelspec": {
   "display_name": ".venv",
   "language": "python",
   "name": "python3"
  },
  "language_info": {
   "codemirror_mode": {
    "name": "ipython",
    "version": 3
   },
   "file_extension": ".py",
   "mimetype": "text/x-python",
   "name": "python",
   "nbconvert_exporter": "python",
   "pygments_lexer": "ipython3",
   "version": "3.10.5"
  }
 },
 "nbformat": 4,
 "nbformat_minor": 2
}
